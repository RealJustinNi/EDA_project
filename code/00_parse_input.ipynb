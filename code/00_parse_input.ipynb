{
 "cells": [
  {
   "cell_type": "code",
   "execution_count": 4,
   "metadata": {},
   "outputs": [],
   "source": [
    "import numpy as np\n",
    "from io import StringIO"
   ]
  },
  {
   "cell_type": "code",
   "execution_count": 5,
   "metadata": {},
   "outputs": [],
   "source": [
    "def parse_gridfile(filepath):\n",
    "    f=open(filepath)\n",
    "    data = []\n",
    "    for line in f:\n",
    "        data.append(line.strip())\n",
    "    f.close()\n",
    "    columns = int(data[0].split(\" \",4)[0])\n",
    "    rows = int(data[0].split(\" \",4)[1])\n",
    "    bend_penalty = int(data[0].split(\" \",4)[2])\n",
    "    via_penalty = int(data[0].split(\" \",4)[3])\n",
    "    print(rows,columns,bend_penalty,via_penalty)\n",
    "    string = str(data[1:])\n",
    "    for item in [\"'\",\"[\",\"]\",\",\"]:\n",
    "        string=string.replace(item,\"\")\n",
    "    array = np.genfromtxt(StringIO(string))\n",
    "    array = array.reshape((2*rows,columns))\n",
    "    layer1_gird,layer2_grid = np.vsplit(array, 2)[0],np.vsplit(array, 2)[1]\n",
    "    print(layer1_gird.shape)\n",
    "    print(layer2_grid.shape)\n",
    "    return rows,columns,bend_penalty,via_penalty,layer1_gird,layer2_grid\n"
   ]
  },
  {
   "cell_type": "code",
   "execution_count": 6,
   "metadata": {},
   "outputs": [
    {
     "name": "stdout",
     "output_type": "stream",
     "text": [
      "50 50 5 1\n",
      "(50, 50)\n",
      "(50, 50)\n"
     ]
    }
   ],
   "source": [
    "rows,columns,bend_penalty,via_penalty,layer1_gird,layer2_grid = parse_gridfile('../benchmark/bench1.grid')\n"
   ]
  }
 ],
 "metadata": {
  "kernelspec": {
   "display_name": "eda",
   "language": "python",
   "name": "python3"
  },
  "language_info": {
   "codemirror_mode": {
    "name": "ipython",
    "version": 3
   },
   "file_extension": ".py",
   "mimetype": "text/x-python",
   "name": "python",
   "nbconvert_exporter": "python",
   "pygments_lexer": "ipython3",
   "version": "3.10.11"
  },
  "orig_nbformat": 4
 },
 "nbformat": 4,
 "nbformat_minor": 2
}
