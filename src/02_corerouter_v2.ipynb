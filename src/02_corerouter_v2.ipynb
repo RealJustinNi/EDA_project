{
 "cells": [
  {
   "attachments": {},
   "cell_type": "markdown",
   "metadata": {},
   "source": [
    "# V2：加入bend_penalty，且每个格子不是单元cost"
   ]
  },
  {
   "cell_type": "code",
   "execution_count": 1,
   "metadata": {},
   "outputs": [
    {
     "name": "stdout",
     "output_type": "stream",
     "text": [
      "bend_penalty: 50 \n",
      " via_penalty: 0\n",
      "size of layer1: (40, 200)\n",
      "size of layer2: (40, 200)\n"
     ]
    }
   ],
   "source": [
    "from parase_input_package.generate_output import *\n",
    "from parase_input_package.parase_input import *\n",
    "from parase_input_package.plot_output import *\n",
    "from queue import Queue\n",
    "filepath_out='../output/bench2.router'\n",
    "netlist_file_path = '../benchmark/bench2.nl'\n",
    "gridfile_path  = '../benchmark/bench2.grid'\n",
    "nets,net_num = parse_netlist(netlist_file_path)\n",
    "rows,columns,bend_penalty,via_penalty,layer1_grid_original,layer2_grid_original = parse_gridfile(gridfile_path)"
   ]
  },
  {
   "cell_type": "code",
   "execution_count": 28,
   "metadata": {},
   "outputs": [],
   "source": [
    "# plot problem 根据grid文件可视化障碍物和每个格子的cost，同时标出source和target\n",
    "plot_problem(\"../output/bench2_problem.jpg\",columns,rows,layer1_grid_original,nets)"
   ]
  },
  {
   "cell_type": "code",
   "execution_count": 3,
   "metadata": {},
   "outputs": [],
   "source": [
    "def reconstruct_path(source, target, parents):\n",
    "    path = []\n",
    "    current = target\n",
    "    while current != source:\n",
    "        path.append(current)\n",
    "        current = parents[current]\n",
    "    path.append(source)\n",
    "    path.reverse()\n",
    "    return path\n",
    "\n",
    "def mark_path_on_grid(layer1_grid, path):\n",
    "    #print(path)\n",
    "    for cell in path:\n",
    "        x, y, _ = cell\n",
    "        layer1_grid[x][y] = -1"
   ]
  },
  {
   "cell_type": "code",
   "execution_count": 4,
   "metadata": {},
   "outputs": [],
   "source": [
    "def get_cell_cost(layer1_grid, cell,path_tmp,bend_penalty):\n",
    "    x, y, layer = cell\n",
    "    cell_cost = 1  # 默认的单元代价\n",
    "    if layer1_grid[x][y] == -1:\n",
    "        cell_cost = float('inf')  # -1表示无法通过的细胞\n",
    "    elif layer1_grid[x][y] != 1:\n",
    "        cell_cost = layer1_grid[x][y]  # 非单元代价\n",
    "    if len(path_tmp) >= 2:\n",
    "        prev_cell = path_tmp[-2]\n",
    "        prev_x, prev_y, prev_layer = prev_cell\n",
    "        if layer != prev_layer and (prev_x != x or prev_y != y):  # 方向变化\n",
    "            cell_cost += bend_penalty\n",
    "    return cell_cost\n",
    "\n",
    "def expand_source_to_target(rows, columns, layer1_grid, source, target,bend_penalty):\n",
    "    queue = Queue()\n",
    "    visited = set()\n",
    "    parents = {}\n",
    "    costs = {}  # Store the cumulative costs for each cell\n",
    "    \n",
    "    source_tuple = (source['x'], source['y'], source['layer'])\n",
    "    target_tuple = (target['x'], target['y'], target['layer'])\n",
    "    \n",
    "    queue.put(source_tuple)\n",
    "    visited.add(source_tuple)\n",
    "    costs[source_tuple] = 0  # Initial cost for the source cell is 0\n",
    "\n",
    "    while not queue.empty():\n",
    "        current_cell = queue.get()\n",
    "\n",
    "        if current_cell == target_tuple:\n",
    "            path = reconstruct_path(source_tuple, target_tuple, parents)\n",
    "            return path,costs\n",
    "\n",
    "        neighbors = get_neighbors(rows, columns, current_cell)\n",
    "\n",
    "        for neighbor in neighbors:\n",
    "            neighbor_tuple = (neighbor['x'], neighbor['y'], neighbor['layer'])\n",
    "            path_tmp= reconstruct_path(source_tuple, current_cell, parents)\n",
    "            # Calculate the cost to reach the neighbor cell\n",
    "            cost = costs[current_cell] + get_cell_cost(layer1_grid, neighbor_tuple,path_tmp,bend_penalty)\n",
    "\n",
    "            if neighbor_tuple not in visited or cost < costs[neighbor_tuple]:\n",
    "                queue.put(neighbor_tuple)\n",
    "                visited.add(neighbor_tuple)\n",
    "                parents[neighbor_tuple] = current_cell\n",
    "                costs[neighbor_tuple] = cost\n",
    "    return []\n",
    "\n",
    "# modified by junjun\n",
    "def expand_source_to_target_jun(rows, columns, layer1_grid, source, target,bend_penalty):\n",
    "    wavefront = {}\n",
    "    visited = set()\n",
    "    parents = {}\n",
    "    costs = {}  # Store the cumulative costs for each cell\n",
    "    \n",
    "    source_tuple = (source['x'], source['y'], source['layer'])\n",
    "    target_tuple = (target['x'], target['y'], target['layer'])\n",
    "    \n",
    "    wavefront[source_tuple] = 0\n",
    "    costs[source_tuple] = 0  # Initial cost for the source cell is 0\n",
    "\n",
    "    while wavefront:\n",
    "        # get lowest cost cell on a wavefront structure\n",
    "        current_cell = sorted(wavefront.items(),key=lambda s:int(s[1]))[0][0]\n",
    "\n",
    "        if current_cell == target_tuple:\n",
    "            path = reconstruct_path(source_tuple, target_tuple, parents)\n",
    "            return path,costs\n",
    "\n",
    "        neighbors = get_neighbors(rows, columns, current_cell)\n",
    "\n",
    "        for neighbor in neighbors:\n",
    "            neighbor_tuple = (neighbor['x'], neighbor['y'], neighbor['layer'])\n",
    "\n",
    "            if neighbor_tuple not in visited:\n",
    "                path_tmp= reconstruct_path(source_tuple, current_cell, parents)\n",
    "                # Calculate the cost to reach the neighbor cell\n",
    "                cost = costs[current_cell] + get_cell_cost(layer1_grid, neighbor_tuple,path_tmp,bend_penalty)\n",
    "                \n",
    "                # ignore blocks\n",
    "                if cost!= np.inf:\n",
    "                    if neighbor_tuple not in wavefront.keys() or costs[neighbor_tuple] > cost:\n",
    "                        costs[neighbor_tuple] = cost\n",
    "                        parents[neighbor_tuple] = current_cell\n",
    "\n",
    "                    if neighbor_tuple not in wavefront.keys():\n",
    "                        # add cell N to waveform, indexed by pathcost\n",
    "                        wavefront[neighbor_tuple]=cost         \n",
    "\n",
    "        visited.add(current_cell)    \n",
    "        del wavefront[current_cell]                  \n",
    "    return None,None\n",
    "\n",
    "def get_neighbors(rows, columns, cell):\n",
    "    x, y, layer = cell\n",
    "    neighbors = []\n",
    "    if x > 0:\n",
    "        neighbors.append({'x': x - 1, 'y': y, 'layer': layer})\n",
    "    if x < columns - 1:\n",
    "        neighbors.append({'x': x + 1, 'y': y, 'layer': layer})\n",
    "    if y > 0:\n",
    "        neighbors.append({'x': x, 'y': y - 1, 'layer': layer})\n",
    "    if y < rows - 1:\n",
    "        neighbors.append({'x': x, 'y': y + 1, 'layer': layer})\n",
    "\n",
    "    return neighbors"
   ]
  },
  {
   "cell_type": "code",
   "execution_count": 5,
   "metadata": {},
   "outputs": [],
   "source": [
    "def nounit_bend_penalty_cost_router(rows, columns, layer1_grid, nets,bend_penalty):\n",
    "    routing_table = {}\n",
    "    for net in nets:\n",
    "        net_id = net['net_id']\n",
    "        pin1 = net['pin1']\n",
    "        pin2 = net['pin2']\n",
    "        layer1_grid[pin1['x']][pin1['y']] = -1\n",
    "        layer1_grid[pin2['x']][pin2['y']] = -1\n",
    "        ## 防止布线在后续的pin上，先将所有的pin标记为-1；\n",
    "        \n",
    "    for net in nets:\n",
    "        net_id = net['net_id']\n",
    "        pin1 = net['pin1']\n",
    "        pin2 = net['pin2']\n",
    "        layer1_grid[pin1['x']][pin1['y']] = 1\n",
    "        layer1_grid[pin2['x']][pin2['y']] = 1\n",
    "        path,costs = expand_source_to_target_jun(rows, columns, layer1_grid, pin1, pin2,bend_penalty) # 少了第二个return jun\n",
    "        mark_path_on_grid(layer1_grid,path)\n",
    "        routing_table[net_id] = path\n",
    "    return routing_table,costs"
   ]
  },
  {
   "cell_type": "code",
   "execution_count": 9,
   "metadata": {},
   "outputs": [],
   "source": [
    "layer1_gird = layer1_grid_original.T\n",
    "routing_table = {}\n",
    "net_id = nets[2]['net_id']\n",
    "pin1 = nets[2]['pin1']\n",
    "pin2 = nets[2]['pin2']\n",
    "layer1_gird[pin1['x']][pin1['y']] = 1\n",
    "layer1_gird[pin2['x']][pin2['y']] = 1\n",
    "path,cost = expand_source_to_target_jun(rows, columns, layer1_gird, pin1, pin2,bend_penalty)\n",
    "mark_path_on_grid(layer1_gird,path)\n",
    "routing_table[net_id] = path\n",
    "routing_table"
   ]
  },
  {
   "cell_type": "code",
   "execution_count": 6,
   "metadata": {},
   "outputs": [
    {
     "name": "stdout",
     "output_type": "stream",
     "text": [
      "{1: [(1, 31, 1), (2, 31, 1), (3, 31, 1), (4, 31, 1), (5, 31, 1), (6, 31, 1), (7, 31, 1), (8, 31, 1), (9, 31, 1), (10, 31, 1), (11, 31, 1), (12, 31, 1), (13, 31, 1), (14, 31, 1), (15, 31, 1), (16, 31, 1), (17, 31, 1), (18, 31, 1), (19, 31, 1)], 2: [(21, 31, 1), (22, 31, 1), (23, 31, 1), (23, 30, 1), (23, 29, 1), (23, 28, 1), (23, 27, 1), (23, 26, 1), (23, 25, 1), (24, 25, 1), (25, 25, 1), (26, 25, 1), (27, 25, 1), (28, 25, 1), (29, 25, 1), (30, 25, 1), (31, 25, 1), (32, 25, 1), (33, 25, 1), (34, 25, 1), (35, 25, 1), (36, 25, 1), (37, 25, 1), (38, 25, 1), (39, 25, 1), (39, 26, 1), (39, 27, 1), (39, 28, 1), (39, 29, 1), (39, 30, 1), (39, 31, 1)], 3: [(41, 31, 1), (42, 31, 1), (43, 31, 1), (43, 30, 1), (43, 29, 1), (43, 28, 1), (43, 27, 1), (43, 26, 1), (43, 25, 1), (44, 25, 1), (45, 25, 1), (46, 25, 1), (47, 25, 1), (48, 25, 1), (49, 25, 1), (50, 25, 1), (51, 25, 1), (52, 25, 1), (53, 25, 1), (54, 25, 1), (55, 25, 1), (56, 25, 1), (57, 25, 1), (58, 25, 1), (59, 25, 1), (59, 26, 1), (59, 27, 1), (59, 28, 1), (59, 29, 1), (59, 30, 1), (59, 31, 1)], 4: [(61, 31, 1), (62, 31, 1), (63, 31, 1), (63, 30, 1), (63, 29, 1), (63, 28, 1), (63, 27, 1), (63, 26, 1), (63, 25, 1), (64, 25, 1), (65, 25, 1), (66, 25, 1), (67, 25, 1), (68, 25, 1), (69, 25, 1), (70, 25, 1), (71, 25, 1), (72, 25, 1), (73, 25, 1), (74, 25, 1), (75, 25, 1), (76, 25, 1), (77, 25, 1), (78, 25, 1), (79, 25, 1), (79, 26, 1), (79, 27, 1), (79, 28, 1), (79, 29, 1), (79, 30, 1), (79, 31, 1)], 5: [(81, 31, 1), (82, 31, 1), (83, 31, 1), (83, 30, 1), (83, 29, 1), (83, 28, 1), (83, 27, 1), (83, 26, 1), (83, 25, 1), (84, 25, 1), (85, 25, 1), (86, 25, 1), (87, 25, 1), (88, 25, 1), (89, 25, 1), (90, 25, 1), (91, 25, 1), (92, 25, 1), (93, 25, 1), (94, 25, 1), (95, 25, 1), (96, 25, 1), (97, 25, 1), (98, 25, 1), (99, 25, 1), (99, 26, 1), (99, 27, 1), (99, 28, 1), (99, 29, 1), (99, 30, 1), (99, 31, 1)], 6: [(101, 31, 1), (102, 31, 1), (103, 31, 1), (103, 30, 1), (103, 29, 1), (103, 28, 1), (103, 27, 1), (103, 26, 1), (103, 25, 1), (104, 25, 1), (105, 25, 1), (106, 25, 1), (107, 25, 1), (108, 25, 1), (109, 25, 1), (110, 25, 1), (111, 25, 1), (112, 25, 1), (113, 25, 1), (114, 25, 1), (115, 25, 1), (116, 25, 1), (117, 25, 1), (118, 25, 1), (119, 25, 1), (119, 26, 1), (119, 27, 1), (119, 28, 1), (119, 29, 1), (119, 30, 1), (119, 31, 1)], 7: [(121, 31, 1), (122, 31, 1), (123, 31, 1), (123, 30, 1), (123, 29, 1), (123, 28, 1), (123, 27, 1), (123, 26, 1), (123, 25, 1), (124, 25, 1), (125, 25, 1), (126, 25, 1), (127, 25, 1), (128, 25, 1), (129, 25, 1), (130, 25, 1), (131, 25, 1), (132, 25, 1), (133, 25, 1), (134, 25, 1), (135, 25, 1), (136, 25, 1), (137, 25, 1), (138, 25, 1), (139, 25, 1), (139, 26, 1), (139, 27, 1), (139, 28, 1), (139, 29, 1), (139, 30, 1), (139, 31, 1)], 8: [(141, 31, 1), (142, 31, 1), (143, 31, 1), (143, 30, 1), (143, 29, 1), (143, 28, 1), (143, 27, 1), (143, 26, 1), (143, 25, 1), (144, 25, 1), (145, 25, 1), (146, 25, 1), (147, 25, 1), (148, 25, 1), (149, 25, 1), (150, 25, 1), (151, 25, 1), (152, 25, 1), (153, 25, 1), (154, 25, 1), (155, 25, 1), (156, 25, 1), (157, 25, 1), (158, 25, 1), (159, 25, 1), (159, 26, 1), (159, 27, 1), (159, 28, 1), (159, 29, 1), (159, 30, 1), (159, 31, 1)], 9: [(161, 31, 1), (162, 31, 1), (163, 31, 1), (163, 30, 1), (163, 29, 1), (163, 28, 1), (163, 27, 1), (163, 26, 1), (163, 25, 1), (164, 25, 1), (165, 25, 1), (166, 25, 1), (167, 25, 1), (168, 25, 1), (169, 25, 1), (170, 25, 1), (171, 25, 1), (172, 25, 1), (173, 25, 1), (174, 25, 1), (175, 25, 1), (176, 25, 1), (177, 25, 1), (178, 25, 1), (179, 25, 1), (179, 26, 1), (179, 27, 1), (179, 28, 1), (179, 29, 1), (179, 30, 1), (179, 31, 1)], 10: [(181, 31, 1), (182, 31, 1), (183, 31, 1), (183, 30, 1), (183, 29, 1), (183, 28, 1), (183, 27, 1), (183, 26, 1), (183, 25, 1), (184, 25, 1), (185, 25, 1), (186, 25, 1), (187, 25, 1), (188, 25, 1), (189, 25, 1), (190, 25, 1), (191, 25, 1), (192, 25, 1), (193, 25, 1), (194, 25, 1), (195, 25, 1), (196, 25, 1), (197, 25, 1), (198, 25, 1), (199, 25, 1), (199, 26, 1), (199, 27, 1), (199, 28, 1), (199, 29, 1), (199, 30, 1), (199, 31, 1)], 11: [(9, 19, 1), (9, 18, 1), (9, 17, 1), (9, 16, 1), (9, 15, 1), (9, 14, 1), (9, 13, 1), (9, 12, 1), (9, 11, 1), (9, 10, 1), (9, 9, 1), (9, 8, 1), (9, 7, 1), (9, 6, 1), (9, 5, 1), (9, 4, 1), (9, 3, 1), (9, 2, 1), (9, 1, 1)], 12: [(29, 19, 1), (28, 19, 1), (27, 19, 1), (26, 19, 1), (25, 19, 1), (24, 19, 1), (23, 19, 1), (23, 18, 1), (23, 17, 1), (23, 16, 1), (23, 15, 1), (23, 14, 1), (23, 13, 1), (23, 12, 1), (23, 11, 1), (23, 10, 1), (23, 9, 1), (23, 8, 1), (23, 7, 1), (23, 6, 1), (23, 5, 1), (23, 4, 1), (23, 3, 1), (24, 3, 1), (25, 3, 1), (26, 3, 1), (27, 3, 1), (28, 3, 1), (29, 3, 1), (29, 2, 1), (29, 1, 1)], 13: [(49, 19, 1), (48, 19, 1), (47, 19, 1), (46, 19, 1), (45, 19, 1), (44, 19, 1), (43, 19, 1), (43, 18, 1), (43, 17, 1), (43, 16, 1), (43, 15, 1), (43, 14, 1), (43, 13, 1), (43, 12, 1), (43, 11, 1), (43, 10, 1), (43, 9, 1), (43, 8, 1), (43, 7, 1), (43, 6, 1), (43, 5, 1), (43, 4, 1), (43, 3, 1), (44, 3, 1), (45, 3, 1), (46, 3, 1), (47, 3, 1), (48, 3, 1), (49, 3, 1), (49, 2, 1), (49, 1, 1)], 14: [(69, 19, 1), (68, 19, 1), (67, 19, 1), (66, 19, 1), (65, 19, 1), (64, 19, 1), (63, 19, 1), (63, 18, 1), (63, 17, 1), (63, 16, 1), (63, 15, 1), (63, 14, 1), (63, 13, 1), (63, 12, 1), (63, 11, 1), (63, 10, 1), (63, 9, 1), (63, 8, 1), (63, 7, 1), (63, 6, 1), (63, 5, 1), (63, 4, 1), (63, 3, 1), (64, 3, 1), (65, 3, 1), (66, 3, 1), (67, 3, 1), (68, 3, 1), (69, 3, 1), (69, 2, 1), (69, 1, 1)], 15: [(89, 19, 1), (88, 19, 1), (87, 19, 1), (86, 19, 1), (85, 19, 1), (84, 19, 1), (83, 19, 1), (83, 18, 1), (83, 17, 1), (83, 16, 1), (83, 15, 1), (83, 14, 1), (83, 13, 1), (83, 12, 1), (83, 11, 1), (83, 10, 1), (83, 9, 1), (83, 8, 1), (83, 7, 1), (83, 6, 1), (83, 5, 1), (83, 4, 1), (83, 3, 1), (84, 3, 1), (85, 3, 1), (86, 3, 1), (87, 3, 1), (88, 3, 1), (89, 3, 1), (89, 2, 1), (89, 1, 1)], 16: [(109, 19, 1), (108, 19, 1), (107, 19, 1), (106, 19, 1), (105, 19, 1), (104, 19, 1), (103, 19, 1), (103, 18, 1), (103, 17, 1), (103, 16, 1), (103, 15, 1), (103, 14, 1), (103, 13, 1), (103, 12, 1), (103, 11, 1), (103, 10, 1), (103, 9, 1), (103, 8, 1), (103, 7, 1), (103, 6, 1), (103, 5, 1), (103, 4, 1), (103, 3, 1), (104, 3, 1), (105, 3, 1), (106, 3, 1), (107, 3, 1), (108, 3, 1), (109, 3, 1), (109, 2, 1), (109, 1, 1)], 17: [(129, 19, 1), (128, 19, 1), (127, 19, 1), (126, 19, 1), (125, 19, 1), (124, 19, 1), (123, 19, 1), (123, 18, 1), (123, 17, 1), (123, 16, 1), (123, 15, 1), (123, 14, 1), (123, 13, 1), (123, 12, 1), (123, 11, 1), (123, 10, 1), (123, 9, 1), (123, 8, 1), (123, 7, 1), (123, 6, 1), (123, 5, 1), (123, 4, 1), (123, 3, 1), (124, 3, 1), (125, 3, 1), (126, 3, 1), (127, 3, 1), (128, 3, 1), (129, 3, 1), (129, 2, 1), (129, 1, 1)], 18: [(149, 19, 1), (148, 19, 1), (147, 19, 1), (146, 19, 1), (145, 19, 1), (144, 19, 1), (143, 19, 1), (143, 18, 1), (143, 17, 1), (143, 16, 1), (143, 15, 1), (143, 14, 1), (143, 13, 1), (143, 12, 1), (143, 11, 1), (143, 10, 1), (143, 9, 1), (143, 8, 1), (143, 7, 1), (143, 6, 1), (143, 5, 1), (143, 4, 1), (143, 3, 1), (144, 3, 1), (145, 3, 1), (146, 3, 1), (147, 3, 1), (148, 3, 1), (149, 3, 1), (149, 2, 1), (149, 1, 1)], 19: [(169, 19, 1), (168, 19, 1), (167, 19, 1), (166, 19, 1), (165, 19, 1), (164, 19, 1), (163, 19, 1), (163, 18, 1), (163, 17, 1), (163, 16, 1), (163, 15, 1), (163, 14, 1), (163, 13, 1), (163, 12, 1), (163, 11, 1), (163, 10, 1), (163, 9, 1), (163, 8, 1), (163, 7, 1), (163, 6, 1), (163, 5, 1), (163, 4, 1), (163, 3, 1), (164, 3, 1), (165, 3, 1), (166, 3, 1), (167, 3, 1), (168, 3, 1), (169, 3, 1), (169, 2, 1), (169, 1, 1)], 20: [(189, 19, 1), (188, 19, 1), (187, 19, 1), (186, 19, 1), (185, 19, 1), (184, 19, 1), (183, 19, 1), (183, 18, 1), (183, 17, 1), (183, 16, 1), (183, 15, 1), (183, 14, 1), (183, 13, 1), (183, 12, 1), (183, 11, 1), (183, 10, 1), (183, 9, 1), (183, 8, 1), (183, 7, 1), (183, 6, 1), (183, 5, 1), (183, 4, 1), (183, 3, 1), (184, 3, 1), (185, 3, 1), (186, 3, 1), (187, 3, 1), (188, 3, 1), (189, 3, 1), (189, 2, 1), (189, 1, 1)]}\n"
     ]
    }
   ],
   "source": [
    "layer1_grid = layer1_grid_original\n",
    "routing_table,cost1 = nounit_bend_penalty_cost_router(rows,columns,layer1_grid.T,nets,bend_penalty)\n",
    "print(routing_table)\n",
    "generate_output_file(filepath_out,net_num,routing_table)\n",
    "plot_path('../output/bench2_v2.jpg',columns=columns,rows=rows,block_list=np.argwhere(layer1_grid.T==-1),path_dict=routing_table)"
   ]
  }
 ],
 "metadata": {
  "kernelspec": {
   "display_name": "eda",
   "language": "python",
   "name": "python3"
  },
  "language_info": {
   "codemirror_mode": {
    "name": "ipython",
    "version": 3
   },
   "file_extension": ".py",
   "mimetype": "text/x-python",
   "name": "python",
   "nbconvert_exporter": "python",
   "pygments_lexer": "ipython3",
   "version": "3.10.9"
  },
  "orig_nbformat": 4
 },
 "nbformat": 4,
 "nbformat_minor": 2
}
