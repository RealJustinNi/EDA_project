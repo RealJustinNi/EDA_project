{
 "cells": [
  {
   "attachments": {},
   "cell_type": "markdown",
   "metadata": {},
   "source": [
    "# V2：加入bend_penalty，且每个格子不是单元cost"
   ]
  },
  {
   "cell_type": "code",
   "execution_count": 97,
   "metadata": {},
   "outputs": [
    {
     "name": "stdout",
     "output_type": "stream",
     "text": [
      "bend_penalty: 50 \n",
      " via_penalty: 0\n",
      "size of layer1: (40, 200)\n",
      "size of layer2: (40, 200)\n"
     ]
    }
   ],
   "source": [
    "from parase_input_package.generate_output import *\n",
    "from parase_input_package.parase_input import *\n",
    "from parase_input_package.plot_output import *\n",
    "from queue import Queue\n",
    "filepath_out='../output/bench2.router'\n",
    "netlist_file_path = '../benchmark/bench2.nl'\n",
    "gridfile_path  = '../benchmark/bench2.grid'\n",
    "nets,net_num = parse_netlist(netlist_file_path)\n",
    "rows,columns,bend_penalty,via_penalty,layer1_grid_original,layer2_grid_original = parse_gridfile(gridfile_path)"
   ]
  },
  {
   "cell_type": "code",
   "execution_count": 98,
   "metadata": {},
   "outputs": [
    {
     "data": {
      "text/plain": [
       "array([ 1.,  1.,  1.,  1.,  2.,  2.,  2.,  2.,  2.,  2.,  2.,  2.,  2.,\n",
       "        2.,  2.,  2.,  2.,  1.,  1.,  1.,  1.,  1.,  1.,  1.,  1.,  1.,\n",
       "       -1., -1., -1.,  2.,  2.,  2.,  2.,  2., -1., -1., -1.,  1.,  1.,\n",
       "        1.])"
      ]
     },
     "execution_count": 98,
     "metadata": {},
     "output_type": "execute_result"
    }
   ],
   "source": [
    "layer1_grid_original.T[31]"
   ]
  },
  {
   "cell_type": "code",
   "execution_count": 99,
   "metadata": {},
   "outputs": [],
   "source": [
    "plot_path(\"../output/bench2_block.jpg\",columns=columns,rows=rows,block_list=np.argwhere(layer1_grid_original.T==-1),path_dict={})"
   ]
  },
  {
   "cell_type": "code",
   "execution_count": 100,
   "metadata": {},
   "outputs": [],
   "source": [
    "def reconstruct_path(source, target, parents):\n",
    "    path = []\n",
    "    current = target\n",
    "    while current != source:\n",
    "        path.append(current)\n",
    "        current = parents[current]\n",
    "    path.append(source)\n",
    "    path.reverse()\n",
    "    return path\n",
    "\n",
    "def mark_path_on_grid(layer1_grid, path):\n",
    "    #print(path)\n",
    "    for cell in path:\n",
    "        x, y, _ = cell\n",
    "        layer1_grid[x][y] = -1"
   ]
  },
  {
   "cell_type": "code",
   "execution_count": 101,
   "metadata": {},
   "outputs": [],
   "source": [
    "def get_cell_cost(layer1_grid, cell,path_tmp,bend_penalty):\n",
    "    x, y, layer = cell\n",
    "    cell_cost = 1  # 默认的单元代价\n",
    "    if layer1_grid[x][y] == -1:\n",
    "        cell_cost = float('inf')  # -1表示无法通过的细胞\n",
    "    elif layer1_grid[x][y] != 1:\n",
    "        cell_cost = layer1_grid[x][y]  # 非单元代价\n",
    "    if len(path_tmp) >= 2:\n",
    "        prev_cell = path_tmp[-2]\n",
    "        prev_x, prev_y, prev_layer = prev_cell\n",
    "        if layer != prev_layer and (prev_x != x or prev_y != y):  # 方向变化\n",
    "            cell_cost += bend_penalty\n",
    "    return cell_cost\n",
    "\n",
    "def expand_source_to_target(rows, columns, layer1_grid, source, target,bend_penalty):\n",
    "    queue = Queue()\n",
    "    visited = set()\n",
    "    parents = {}\n",
    "    costs = {}  # Store the cumulative costs for each cell\n",
    "    \n",
    "    source_tuple = (source['x'], source['y'], source['layer'])\n",
    "    target_tuple = (target['x'], target['y'], target['layer'])\n",
    "    \n",
    "    queue.put(source_tuple)\n",
    "    visited.add(source_tuple)\n",
    "    costs[source_tuple] = 0  # Initial cost for the source cell is 0\n",
    "\n",
    "    while not queue.empty():\n",
    "        current_cell = queue.get()\n",
    "\n",
    "        if current_cell == target_tuple:\n",
    "            path = reconstruct_path(source_tuple, target_tuple, parents)\n",
    "            return path,costs\n",
    "\n",
    "        neighbors = get_neighbors(rows, columns, current_cell)\n",
    "\n",
    "        for neighbor in neighbors:\n",
    "            neighbor_tuple = (neighbor['x'], neighbor['y'], neighbor['layer'])\n",
    "            path_tmp= reconstruct_path(source_tuple, current_cell, parents)\n",
    "            # Calculate the cost to reach the neighbor cell\n",
    "            cost = costs[current_cell] + get_cell_cost(layer1_grid, neighbor_tuple,path_tmp,bend_penalty)\n",
    "\n",
    "            if neighbor_tuple not in visited or cost < costs[neighbor_tuple]:\n",
    "                queue.put(neighbor_tuple)\n",
    "                visited.add(neighbor_tuple)\n",
    "                parents[neighbor_tuple] = current_cell\n",
    "                costs[neighbor_tuple] = cost\n",
    "    return []\n",
    "\n",
    "def get_neighbors(rows, columns, cell):\n",
    "    x, y, layer = cell\n",
    "    neighbors = []\n",
    "    if x > 0:\n",
    "        neighbors.append({'x': x - 1, 'y': y, 'layer': layer})\n",
    "    if x < columns - 1:\n",
    "        neighbors.append({'x': x + 1, 'y': y, 'layer': layer})\n",
    "    if y > 0:\n",
    "        neighbors.append({'x': x, 'y': y - 1, 'layer': layer})\n",
    "    if y < rows - 1:\n",
    "        neighbors.append({'x': x, 'y': y + 1, 'layer': layer})\n",
    "\n",
    "    return neighbors"
   ]
  },
  {
   "cell_type": "code",
   "execution_count": 102,
   "metadata": {},
   "outputs": [],
   "source": [
    "def nounit_bend_penalty_cost_router(rows, columns, layer1_grid, nets,bend_penalty):\n",
    "    routing_table = {}\n",
    "    for net in nets:\n",
    "        net_id = net['net_id']\n",
    "        pin1 = net['pin1']\n",
    "        pin2 = net['pin2']\n",
    "        layer1_grid[pin1['x']][pin1['y']] = -1\n",
    "        layer1_grid[pin2['x']][pin2['y']] = -1\n",
    "        ## 防止布线在后续的pin上，先将所有的pin标记为-1；\n",
    "        \n",
    "    for net in nets:\n",
    "        net_id = net['net_id']\n",
    "        pin1 = net['pin1']\n",
    "        pin2 = net['pin2']\n",
    "        layer1_grid[pin1['x']][pin1['y']] = 1\n",
    "        layer1_grid[pin2['x']][pin2['y']] = 1\n",
    "        path,costs = expand_source_to_target(rows, columns, layer1_grid, pin1, pin2,bend_penalty) # 少了第二个return\n",
    "        mark_path_on_grid(layer1_grid,path)\n",
    "        routing_table[net_id] = path\n",
    "    return routing_table,costs\n",
    "\n"
   ]
  },
  {
   "cell_type": "code",
   "execution_count": 94,
   "metadata": {},
   "outputs": [],
   "source": [
    "layer1_gird = layer1_grid_original\n",
    "routing_table = {}\n",
    "net_id = nets[0]['net_id']\n",
    "pin1 = nets[0]['pin1']\n",
    "pin2 = nets[0]['pin2']\n",
    "layer1_gird[pin1['x']][pin1['y']] = 1\n",
    "layer1_gird[pin2['x']][pin2['y']] = 1\n",
    "path,cost = expand_source_to_target(rows, columns, layer1_gird.T, pin1, pin2,bend_penalty)\n",
    "mark_path_on_grid(layer1_gird.T,path)\n",
    "routing_table[net_id] = path"
   ]
  },
  {
   "cell_type": "code",
   "execution_count": 95,
   "metadata": {},
   "outputs": [
    {
     "data": {
      "text/plain": [
       "2.0"
      ]
     },
     "execution_count": 95,
     "metadata": {},
     "output_type": "execute_result"
    }
   ],
   "source": [
    "layer1_gird[5][31]"
   ]
  },
  {
   "cell_type": "code",
   "execution_count": 105,
   "metadata": {},
   "outputs": [
    {
     "name": "stdout",
     "output_type": "stream",
     "text": [
      "{1: [(1, 31, 1), (2, 31, 1), (3, 31, 1), (4, 31, 1), (5, 31, 1), (6, 31, 1), (7, 31, 1), (8, 31, 1), (9, 31, 1), (10, 31, 1), (11, 31, 1), (12, 31, 1), (13, 31, 1), (14, 31, 1), (15, 31, 1), (16, 31, 1), (17, 31, 1), (18, 31, 1), (19, 31, 1)], 2: [(21, 31, 1), (22, 31, 1), (23, 31, 1), (24, 31, 1), (25, 31, 1), (26, 31, 1), (27, 31, 1), (28, 31, 1), (29, 31, 1), (30, 31, 1), (31, 31, 1), (32, 31, 1), (33, 31, 1), (34, 31, 1), (35, 31, 1), (36, 31, 1), (37, 31, 1), (38, 31, 1), (39, 31, 1)], 3: [(41, 31, 1), (42, 31, 1), (43, 31, 1), (44, 31, 1), (45, 31, 1), (46, 31, 1), (47, 31, 1), (48, 31, 1), (49, 31, 1), (50, 31, 1), (51, 31, 1), (52, 31, 1), (53, 31, 1), (54, 31, 1), (55, 31, 1), (56, 31, 1), (57, 31, 1), (58, 31, 1), (59, 31, 1)], 4: [(61, 31, 1), (62, 31, 1), (63, 31, 1), (64, 31, 1), (65, 31, 1), (66, 31, 1), (67, 31, 1), (68, 31, 1), (69, 31, 1), (70, 31, 1), (71, 31, 1), (72, 31, 1), (73, 31, 1), (74, 31, 1), (75, 31, 1), (76, 31, 1), (77, 31, 1), (78, 31, 1), (79, 31, 1)], 5: [(81, 31, 1), (82, 31, 1), (83, 31, 1), (84, 31, 1), (85, 31, 1), (86, 31, 1), (87, 31, 1), (88, 31, 1), (89, 31, 1), (90, 31, 1), (91, 31, 1), (92, 31, 1), (93, 31, 1), (94, 31, 1), (95, 31, 1), (96, 31, 1), (97, 31, 1), (98, 31, 1), (99, 31, 1)], 6: [(101, 31, 1), (102, 31, 1), (103, 31, 1), (104, 31, 1), (105, 31, 1), (106, 31, 1), (107, 31, 1), (108, 31, 1), (109, 31, 1), (110, 31, 1), (111, 31, 1), (112, 31, 1), (113, 31, 1), (114, 31, 1), (115, 31, 1), (116, 31, 1), (117, 31, 1), (118, 31, 1), (119, 31, 1)], 7: [(121, 31, 1), (122, 31, 1), (123, 31, 1), (124, 31, 1), (125, 31, 1), (126, 31, 1), (127, 31, 1), (128, 31, 1), (129, 31, 1), (130, 31, 1), (131, 31, 1), (132, 31, 1), (133, 31, 1), (134, 31, 1), (135, 31, 1), (136, 31, 1), (137, 31, 1), (138, 31, 1), (139, 31, 1)], 8: [(141, 31, 1), (142, 31, 1), (143, 31, 1), (144, 31, 1), (145, 31, 1), (146, 31, 1), (147, 31, 1), (148, 31, 1), (149, 31, 1), (150, 31, 1), (151, 31, 1), (152, 31, 1), (153, 31, 1), (154, 31, 1), (155, 31, 1), (156, 31, 1), (157, 31, 1), (158, 31, 1), (159, 31, 1)], 9: [(161, 31, 1), (162, 31, 1), (163, 31, 1), (164, 31, 1), (165, 31, 1), (166, 31, 1), (167, 31, 1), (168, 31, 1), (169, 31, 1), (170, 31, 1), (171, 31, 1), (172, 31, 1), (173, 31, 1), (174, 31, 1), (175, 31, 1), (176, 31, 1), (177, 31, 1), (178, 31, 1), (179, 31, 1)], 10: [(181, 31, 1), (182, 31, 1), (183, 31, 1), (184, 31, 1), (185, 31, 1), (186, 31, 1), (187, 31, 1), (188, 31, 1), (189, 31, 1), (190, 31, 1), (191, 31, 1), (192, 31, 1), (193, 31, 1), (194, 31, 1), (195, 31, 1), (196, 31, 1), (197, 31, 1), (198, 31, 1), (199, 31, 1)], 11: [(9, 19, 1), (9, 18, 1), (9, 17, 1), (9, 16, 1), (9, 15, 1), (9, 14, 1), (9, 13, 1), (9, 12, 1), (9, 11, 1), (9, 10, 1), (9, 9, 1), (9, 8, 1), (9, 7, 1), (9, 6, 1), (9, 5, 1), (9, 4, 1), (9, 3, 1), (9, 2, 1), (9, 1, 1)], 12: [(29, 19, 1), (29, 18, 1), (29, 17, 1), (29, 16, 1), (29, 15, 1), (29, 14, 1), (29, 13, 1), (29, 12, 1), (29, 11, 1), (29, 10, 1), (29, 9, 1), (29, 8, 1), (29, 7, 1), (29, 6, 1), (29, 5, 1), (29, 4, 1), (29, 3, 1), (29, 2, 1), (29, 1, 1)], 13: [(49, 19, 1), (49, 18, 1), (49, 17, 1), (49, 16, 1), (49, 15, 1), (49, 14, 1), (49, 13, 1), (49, 12, 1), (49, 11, 1), (49, 10, 1), (49, 9, 1), (49, 8, 1), (49, 7, 1), (49, 6, 1), (49, 5, 1), (49, 4, 1), (49, 3, 1), (49, 2, 1), (49, 1, 1)], 14: [(69, 19, 1), (69, 18, 1), (69, 17, 1), (69, 16, 1), (69, 15, 1), (69, 14, 1), (69, 13, 1), (69, 12, 1), (69, 11, 1), (69, 10, 1), (69, 9, 1), (69, 8, 1), (69, 7, 1), (69, 6, 1), (69, 5, 1), (69, 4, 1), (69, 3, 1), (69, 2, 1), (69, 1, 1)], 15: [(89, 19, 1), (89, 18, 1), (89, 17, 1), (89, 16, 1), (89, 15, 1), (89, 14, 1), (89, 13, 1), (89, 12, 1), (89, 11, 1), (89, 10, 1), (89, 9, 1), (89, 8, 1), (89, 7, 1), (89, 6, 1), (89, 5, 1), (89, 4, 1), (89, 3, 1), (89, 2, 1), (89, 1, 1)], 16: [(109, 19, 1), (109, 18, 1), (109, 17, 1), (109, 16, 1), (109, 15, 1), (109, 14, 1), (109, 13, 1), (109, 12, 1), (109, 11, 1), (109, 10, 1), (109, 9, 1), (109, 8, 1), (109, 7, 1), (109, 6, 1), (109, 5, 1), (109, 4, 1), (109, 3, 1), (109, 2, 1), (109, 1, 1)], 17: [(129, 19, 1), (129, 18, 1), (129, 17, 1), (129, 16, 1), (129, 15, 1), (129, 14, 1), (129, 13, 1), (129, 12, 1), (129, 11, 1), (129, 10, 1), (129, 9, 1), (129, 8, 1), (129, 7, 1), (129, 6, 1), (129, 5, 1), (129, 4, 1), (129, 3, 1), (129, 2, 1), (129, 1, 1)], 18: [(149, 19, 1), (149, 18, 1), (149, 17, 1), (149, 16, 1), (149, 15, 1), (149, 14, 1), (149, 13, 1), (149, 12, 1), (149, 11, 1), (149, 10, 1), (149, 9, 1), (149, 8, 1), (149, 7, 1), (149, 6, 1), (149, 5, 1), (149, 4, 1), (149, 3, 1), (149, 2, 1), (149, 1, 1)], 19: [(169, 19, 1), (169, 18, 1), (169, 17, 1), (169, 16, 1), (169, 15, 1), (169, 14, 1), (169, 13, 1), (169, 12, 1), (169, 11, 1), (169, 10, 1), (169, 9, 1), (169, 8, 1), (169, 7, 1), (169, 6, 1), (169, 5, 1), (169, 4, 1), (169, 3, 1), (169, 2, 1), (169, 1, 1)], 20: [(189, 19, 1), (189, 18, 1), (189, 17, 1), (189, 16, 1), (189, 15, 1), (189, 14, 1), (189, 13, 1), (189, 12, 1), (189, 11, 1), (189, 10, 1), (189, 9, 1), (189, 8, 1), (189, 7, 1), (189, 6, 1), (189, 5, 1), (189, 4, 1), (189, 3, 1), (189, 2, 1), (189, 1, 1)]}\n"
     ]
    }
   ],
   "source": [
    "layer1_grid = layer1_grid_original\n",
    "routing_table,cost1 = nounit_bend_penalty_cost_router(rows,columns,layer1_grid.T,nets,bend_penalty)\n",
    "print(routing_table)\n",
    "generate_output_file(filepath_out,net_num,routing_table)\n",
    "plot_path('../output/bench2.jpg',columns=columns,rows=rows,block_list=np.argwhere(layer1_grid.T==-1),path_dict=routing_table)"
   ]
  }
 ],
 "metadata": {
  "kernelspec": {
   "display_name": "eda",
   "language": "python",
   "name": "python3"
  },
  "language_info": {
   "codemirror_mode": {
    "name": "ipython",
    "version": 3
   },
   "file_extension": ".py",
   "mimetype": "text/x-python",
   "name": "python",
   "nbconvert_exporter": "python",
   "pygments_lexer": "ipython3",
   "version": "3.10.11"
  },
  "orig_nbformat": 4
 },
 "nbformat": 4,
 "nbformat_minor": 2
}
