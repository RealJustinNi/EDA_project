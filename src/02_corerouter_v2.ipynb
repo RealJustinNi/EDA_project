{
 "cells": [
  {
   "attachments": {},
   "cell_type": "markdown",
   "metadata": {},
   "source": [
    "# V2：加入bend_penalty，且每个格子不是单元cost"
   ]
  },
  {
   "cell_type": "code",
   "execution_count": 21,
   "metadata": {},
   "outputs": [
    {
     "name": "stdout",
     "output_type": "stream",
     "text": [
      "bend_penalty: 50 \n",
      " via_penalty: 0\n",
      "size of layer1: (40, 200)\n",
      "size of layer2: (40, 200)\n"
     ]
    }
   ],
   "source": [
    "from parase_input_package.generate_output import *\n",
    "from parase_input_package.parase_input import *\n",
    "from queue import Queue\n",
    "filepath_out='../output/bench2.router'\n",
    "netlist_file_path = '../benchmark/bench2.nl'\n",
    "gridfile_path  = '../benchmark/bench2.grid'\n",
    "nets,net_num = parse_netlist(netlist_file_path)\n",
    "rows,columns,bend_penalty,via_penalty,layer1_gird_original,layer2_grid = parse_gridfile(gridfile_path)"
   ]
  },
  {
   "cell_type": "code",
   "execution_count": 22,
   "metadata": {},
   "outputs": [],
   "source": [
    "def reconstruct_path(source, target, parents):\n",
    "    path = []\n",
    "    current = target\n",
    "    while current != source:\n",
    "        path.append(current)\n",
    "        current = parents[current]\n",
    "    path.append(source)\n",
    "    path.reverse()\n",
    "    return path\n",
    "\n",
    "def mark_path_on_grid(layer1_grid, path):\n",
    "    for cell in path:\n",
    "        x, y, _ = cell\n",
    "        layer1_grid[x][y] = -1"
   ]
  },
  {
   "cell_type": "code",
   "execution_count": 23,
   "metadata": {},
   "outputs": [],
   "source": [
    "def get_cell_cost(layer1_grid, cell,path_tmp,bend_penalty):\n",
    "    x, y, layer = cell\n",
    "    cell_cost = 1  # 默认的单元代价\n",
    "    if layer1_grid[x][y] == -1:\n",
    "        cell_cost = float('inf')  # -1表示无法通过的细胞\n",
    "    elif layer1_grid[x][y] != 0:\n",
    "        cell_cost = layer1_grid[x][y]  # 非单元代价\n",
    "    if len(path_tmp) >= 2:\n",
    "        prev_cell = path_tmp[-2]\n",
    "        prev_x, prev_y, prev_layer = prev_cell\n",
    "        if layer != prev_layer and (prev_x != x or prev_y != y):  # 方向变化\n",
    "            cell_cost += bend_penalty\n",
    "    return cell_cost\n",
    "\n",
    "def expand_source_to_target(rows, columns, layer1_grid, source, target,bend_penalty):\n",
    "    queue = Queue()\n",
    "    visited = set()\n",
    "    parents = {}\n",
    "    costs = {}  # Store the cumulative costs for each cell\n",
    "    \n",
    "    source_tuple = (source['x'], source['y'], source['layer'])\n",
    "    target_tuple = (target['x'], target['y'], target['layer'])\n",
    "    \n",
    "    queue.put(source_tuple)\n",
    "    visited.add(source_tuple)\n",
    "    costs[source_tuple] = 0  # Initial cost for the source cell is 0\n",
    "\n",
    "    while not queue.empty():\n",
    "        current_cell = queue.get()\n",
    "\n",
    "        if current_cell == target_tuple:\n",
    "            path = reconstruct_path(source_tuple, target_tuple, parents)\n",
    "            return path,cost\n",
    "\n",
    "        neighbors = get_neighbors(rows, columns, current_cell)\n",
    "\n",
    "        for neighbor in neighbors:\n",
    "            neighbor_tuple = (neighbor['x'], neighbor['y'], neighbor['layer'])\n",
    "            path_tmp= reconstruct_path(source_tuple, current_cell, parents)\n",
    "            # Calculate the cost to reach the neighbor cell\n",
    "            cost = costs[current_cell] + get_cell_cost(layer1_grid, neighbor_tuple,path_tmp,bend_penalty)\n",
    "\n",
    "            if neighbor_tuple not in visited or cost < costs[neighbor_tuple]:\n",
    "                queue.put(neighbor_tuple)\n",
    "                visited.add(neighbor_tuple)\n",
    "                parents[neighbor_tuple] = current_cell\n",
    "                costs[neighbor_tuple] = cost\n",
    "    return []\n",
    "\n",
    "def get_neighbors(rows, columns, cell):\n",
    "    x, y, layer = cell\n",
    "    neighbors = []\n",
    "    if x > 0:\n",
    "        neighbors.append({'x': x - 1, 'y': y, 'layer': layer})\n",
    "    if x < columns - 1:\n",
    "        neighbors.append({'x': x + 1, 'y': y, 'layer': layer})\n",
    "    if y > 0:\n",
    "        neighbors.append({'x': x, 'y': y - 1, 'layer': layer})\n",
    "    if y < rows - 1:\n",
    "        neighbors.append({'x': x, 'y': y + 1, 'layer': layer})\n",
    "\n",
    "    return neighbors"
   ]
  },
  {
   "cell_type": "code",
   "execution_count": 12,
   "metadata": {},
   "outputs": [],
   "source": [
    "def nounit_bend_penalty_cost_router(rows, columns, layer1_grid, nets,bend_penalty):\n",
    "    routing_table = {}\n",
    "    for net in nets:\n",
    "        net_id = net['net_id']\n",
    "        pin1 = net['pin1']\n",
    "        pin2 = net['pin2']\n",
    "        layer1_grid[pin1['x']][pin1['y']] = -1\n",
    "        layer1_grid[pin2['x']][pin2['y']] = -1\n",
    "        ## 防止布线在后续的pin上，先将所有的pin标记为-1；\n",
    "        \n",
    "    for net in nets:\n",
    "        net_id = net['net_id']\n",
    "        pin1 = net['pin1']\n",
    "        pin2 = net['pin2']\n",
    "        layer1_grid[pin1['x']][pin1['y']] = 1\n",
    "        layer1_grid[pin2['x']][pin2['y']] = 1\n",
    "        path = expand_source_to_target(rows, columns, layer1_grid, pin1, pin2,bend_penalty)\n",
    "        mark_path_on_grid(layer1_grid,path)\n",
    "        routing_table[net_id] = path\n",
    "    return routing_table\n",
    "\n"
   ]
  },
  {
   "cell_type": "code",
   "execution_count": 24,
   "metadata": {},
   "outputs": [],
   "source": [
    "layer1_gird = layer1_gird_original\n",
    "routing_table = {}\n",
    "net_id = nets[0]['net_id']\n",
    "pin1 = nets[0]['pin1']\n",
    "pin2 = nets[0]['pin2']\n",
    "layer1_gird[pin1['x']][pin1['y']] = 1\n",
    "layer1_gird[pin2['x']][pin2['y']] = 1\n",
    "path,cost = expand_source_to_target(rows, columns, layer1_gird, pin1, pin2,bend_penalty)\n",
    "mark_path_on_grid(layer1_gird,path)\n",
    "routing_table[net_id] = path"
   ]
  }
 ],
 "metadata": {
  "kernelspec": {
   "display_name": "eda",
   "language": "python",
   "name": "python3"
  },
  "language_info": {
   "codemirror_mode": {
    "name": "ipython",
    "version": 3
   },
   "file_extension": ".py",
   "mimetype": "text/x-python",
   "name": "python",
   "nbconvert_exporter": "python",
   "pygments_lexer": "ipython3",
   "version": "3.10.11"
  },
  "orig_nbformat": 4
 },
 "nbformat": 4,
 "nbformat_minor": 2
}
