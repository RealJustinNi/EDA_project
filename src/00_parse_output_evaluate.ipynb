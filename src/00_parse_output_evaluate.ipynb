{
 "cells": [
  {
   "cell_type": "code",
   "execution_count": 34,
   "metadata": {},
   "outputs": [
    {
     "name": "stdout",
     "output_type": "stream",
     "text": [
      "没有布线的节点: 2\n"
     ]
    }
   ],
   "source": [
    "def read_output_file(file_path):\n",
    "    paths = []  # 用于存储所有路径数据\n",
    "    missing_net_ids = []  # 用于存储没有路径的 net_id\n",
    "    with open(file_path, 'r') as file:\n",
    "        net_number = int(file.readline().strip())\n",
    "        for _ in range(net_number):\n",
    "            net_id = int(file.readline().strip())\n",
    "            path = []\n",
    "            line = file.readline().strip()\n",
    "            if line == '0':\n",
    "                missing_net_ids.append(net_id)\n",
    "            else:\n",
    "                while line != '0':\n",
    "                    layer_info, x_coord, y_coord = map(int, line.split())\n",
    "                    path.append({'layer': layer_info, 'x': x_coord, 'y': y_coord})\n",
    "                    line = file.readline().strip()\n",
    "                paths.append({'net_id': net_id, 'path': path})  # 将路径数据添加到 paths 列表中\n",
    "    if missing_net_ids:\n",
    "        for net_id in missing_net_ids:\n",
    "            print(f\"没有布线的节点: {net_id}\")\n",
    "    else:\n",
    "        print(\"所有的节点均已布线.\")\n",
    "    return paths, missing_net_ids\n",
    "\n",
    "# Usage example\n",
    "file_path = '../output/test.router'\n",
    "paths,missing_net_ids = read_output_file(file_path)"
   ]
  },
  {
   "cell_type": "code",
   "execution_count": 15,
   "metadata": {},
   "outputs": [
    {
     "data": {
      "text/plain": [
       "[2]"
      ]
     },
     "execution_count": 15,
     "metadata": {},
     "output_type": "execute_result"
    }
   ],
   "source": [
    "paths[1]"
   ]
  },
  {
   "attachments": {},
   "cell_type": "markdown",
   "metadata": {},
   "source": [
    "## 检查重复点"
   ]
  },
  {
   "cell_type": "code",
   "execution_count": 18,
   "metadata": {},
   "outputs": [
    {
     "name": "stdout",
     "output_type": "stream",
     "text": [
      "存在重复的点:\n",
      "X: 15, Y: 25, Layer: 2\n",
      "重复的Net ID: [4]\n"
     ]
    }
   ],
   "source": [
    "def check_duplicate_points(output_data):\n",
    "    visited_points = set()\n",
    "    duplicate_points = {}\n",
    "    for net in output_data:\n",
    "        net_id = net['net_id']\n",
    "        for point in net['path']:\n",
    "            x = point['x']\n",
    "            y = point['y']\n",
    "            layer = point['layer']\n",
    "            point_tuple = (x, y, layer)\n",
    "            if point_tuple in visited_points:\n",
    "                if point_tuple in duplicate_points:\n",
    "                    duplicate_points[point_tuple].append(net_id)\n",
    "                else:\n",
    "                    duplicate_points[point_tuple] = [net_id]\n",
    "            else:\n",
    "                visited_points.add(point_tuple)\n",
    "    \n",
    "    if len(duplicate_points) > 0:\n",
    "        print(\"存在重复的点:\")\n",
    "        for point, net_ids in duplicate_points.items():\n",
    "            print(f\"X: {point[0]}, Y: {point[1]}, Layer: {point[2]}\")\n",
    "            print(\"重复的Net ID:\", net_ids)\n",
    "    else:\n",
    "        print(\"未找到重复的点。\")\n",
    "    \n",
    "    return duplicate_points\n",
    "\n",
    "# 使用示例\n",
    "duplicate_points = check_duplicate_points(paths)\n",
    "\n"
   ]
  },
  {
   "attachments": {},
   "cell_type": "markdown",
   "metadata": {},
   "source": [
    "## 检查每条线是否连续"
   ]
  },
  {
   "cell_type": "code",
   "execution_count": 21,
   "metadata": {},
   "outputs": [],
   "source": [
    "def check_adjacent_points(path):\n",
    "    for i in range(len(path) - 1):\n",
    "        current_point = path[i]\n",
    "        next_point = path[i + 1]\n",
    "        diff_count = 0\n",
    "        if current_point['x'] != next_point['x']:\n",
    "            diff_count += 1\n",
    "        if current_point['y'] != next_point['y']:\n",
    "            diff_count += 1\n",
    "        if current_point['layer'] != next_point['layer']:\n",
    "            diff_count += 1\n",
    "        if diff_count != 1:\n",
    "            return False\n",
    "    return True\n",
    "\n",
    "def check_adjacent_paths(paths):\n",
    "    incorrect_paths = []  # 存储不正确的路径的 ID\n",
    "    for data in paths:\n",
    "        path = data['path']\n",
    "        is_adjacent = check_adjacent_points(path)\n",
    "        if not is_adjacent:\n",
    "            incorrect_paths.append(data['net_id'])\n",
    "    if len(incorrect_paths) > 0:\n",
    "        print(\"不连续布线的Net ID:\",incorrect_paths)\n",
    "    else:\n",
    "        print(\"所有布线都连续\")\n",
    "    return"
   ]
  },
  {
   "cell_type": "code",
   "execution_count": 22,
   "metadata": {},
   "outputs": [
    {
     "name": "stdout",
     "output_type": "stream",
     "text": [
      "不连续布线的Net ID: [4]\n"
     ]
    }
   ],
   "source": [
    "check_adjacent_paths(paths)"
   ]
  },
  {
   "attachments": {},
   "cell_type": "markdown",
   "metadata": {},
   "source": [
    "## 检查每条布线的起点和终点是否正确"
   ]
  },
  {
   "cell_type": "code",
   "execution_count": 38,
   "metadata": {},
   "outputs": [
    {
     "name": "stdout",
     "output_type": "stream",
     "text": [
      "路径起点与网络列表不匹配，Net ID: 1\n",
      "路径终点与网络列表不匹配，Net ID: 15\n",
      "布线结果的起点和终点与Net发现不匹配\n"
     ]
    }
   ],
   "source": [
    "def check_path_coordinates(paths, nets):\n",
    "    matching_paths = []  # 用于存储匹配的路径数据\n",
    "    for path_data in paths:\n",
    "        net_id = path_data['net_id']\n",
    "        path = path_data['path']\n",
    "        net = next((net for net in nets if net['net_id'] == net_id), None)\n",
    "        if net is None:\n",
    "            print(f\"无法找到匹配的网络列表数据,Net ID: {net_id}\")\n",
    "        else:\n",
    "            pin1 = net['pin1']\n",
    "            pin2 = net['pin2']\n",
    "            path_start = path[0]\n",
    "            path_end = path[-1]\n",
    "            if (path_start['layer'], path_start['x'], path_start['y']) != (pin1['layer'], pin1['x'], pin1['y']):\n",
    "                print(f\"路径起点与网络列表不匹配，Net ID: {net_id}\")\n",
    "            #else:\n",
    "            #    print(f\"路径起点与网络列表匹配，Net ID: {net_id}\")\n",
    "            if (path_end['layer'], path_end['x'], path_end['y']) != (pin2['layer'], pin2['x'], pin2['y']):\n",
    "                print(f\"路径终点与网络列表不匹配，Net ID: {net_id}\")\n",
    "            else:\n",
    "                matching_paths.append(path_data)  # 添加匹配的路径数据到列表中\n",
    "\n",
    "    if len(matching_paths) == len(paths):\n",
    "        print(\"布线结果的起点和终点与Nets全部匹配\")\n",
    "    else:\n",
    "        print(\"布线结果的起点和终点与Nets发现不匹配\")\n",
    "    \n",
    "from parase_input_package.generate_output import *\n",
    "from parase_input_package.parase_input import *\n",
    "from parase_input_package.plot_output import *\n",
    "netlist_file_path = '../benchmark/bench4.nl'\n",
    "nets,net_num = parse_netlist(netlist_file_path)\n",
    "check_path_coordinates(paths, nets)"
   ]
  },
  {
   "attachments": {},
   "cell_type": "markdown",
   "metadata": {},
   "source": [
    "# 计算cost"
   ]
  },
  {
   "cell_type": "code",
   "execution_count": 48,
   "metadata": {},
   "outputs": [],
   "source": [
    "def calculate_path_cost(paths, bend_penalty, via_penalty, layer1_grid, layer2_grid):\n",
    "    total_cost = 0\n",
    "    cost_path = {}\n",
    "    for path in paths:\n",
    "        net_id = path['net_id']\n",
    "        path_data = path['path']\n",
    "        cost_path[net_id] = 0\n",
    "        cost = 0\n",
    "        # 计算每个点的成本\n",
    "        for i, point in enumerate(path_data):\n",
    "            \n",
    "            x = point['x']\n",
    "            y = point['y']\n",
    "            layer = point['layer']\n",
    "\n",
    "            if layer == 1 or layer == 2:\n",
    "                # 加上 layer1/2_grid 上对应 (x, y) 的值\n",
    "                cost += layer1_grid[x][y] if layer == 1 else layer2_grid[x][y]\n",
    "            elif layer == 3:\n",
    "                cost += via_penalty\n",
    "            if i > 1:\n",
    "                # 计算路径弯曲的成本\n",
    "                prev_prev_layer = path_data[i - 2]['layer']\n",
    "                prev_prev_x = path_data[i - 2]['x']\n",
    "                prev_prev_y = path_data[i - 2]['y']\n",
    "                prev_layer = path_data[i - 1]['layer']\n",
    "                if prev_prev_layer == layer and prev_layer == layer and (prev_prev_x != x and y != prev_prev_y):\n",
    "                    cost += bend_penalty\n",
    "        cost_path[net_id]=cost\n",
    "        total_cost += cost\n",
    "                        \n",
    "    return cost_path,total_cost"
   ]
  },
  {
   "cell_type": "code",
   "execution_count": 49,
   "metadata": {},
   "outputs": [
    {
     "name": "stdout",
     "output_type": "stream",
     "text": [
      "bend_penalty: 50 \n",
      " via_penalty: 50\n",
      "size of layer1: (50, 50)\n",
      "size of layer2: (50, 50)\n"
     ]
    }
   ],
   "source": [
    "from parase_input_package.generate_output import *\n",
    "from parase_input_package.parase_input import *\n",
    "from parase_input_package.plot_output import *\n",
    "filepath_out='../output/bench4.router'\n",
    "netlist_file_path = '../benchmark/bench4.nl'\n",
    "gridfile_path  = '../benchmark/bench4.grid'\n",
    "nets,net_num = parse_netlist(netlist_file_path)\n",
    "rows,columns,bend_penalty,via_penalty,layer1_grid,layer2_grid= parse_gridfile(gridfile_path)\n",
    "cost_path,total_cost=calculate_path_cost(paths, bend_penalty, via_penalty, layer1_grid.T, layer2_grid.T)"
   ]
  },
  {
   "cell_type": "code",
   "execution_count": 51,
   "metadata": {},
   "outputs": [
    {
     "data": {
      "text/plain": [
       "1724.0"
      ]
     },
     "execution_count": 51,
     "metadata": {},
     "output_type": "execute_result"
    }
   ],
   "source": [
    "total_cost"
   ]
  },
  {
   "cell_type": "code",
   "execution_count": 50,
   "metadata": {},
   "outputs": [
    {
     "data": {
      "text/plain": [
       "{1: 64.0,\n",
       " 3: 69.0,\n",
       " 4: 122.0,\n",
       " 5: 124.0,\n",
       " 6: 126.0,\n",
       " 7: 193.0,\n",
       " 8: 193.0,\n",
       " 9: 63.0,\n",
       " 10: 65.0,\n",
       " 11: 118.0,\n",
       " 12: 120.0,\n",
       " 13: 122.0,\n",
       " 14: 173.0,\n",
       " 15: 172.0}"
      ]
     },
     "execution_count": 50,
     "metadata": {},
     "output_type": "execute_result"
    }
   ],
   "source": [
    "cost_path\n"
   ]
  },
  {
   "attachments": {},
   "cell_type": "markdown",
   "metadata": {},
   "source": [
    "# 集成"
   ]
  },
  {
   "cell_type": "code",
   "execution_count": 69,
   "metadata": {},
   "outputs": [],
   "source": [
    "def read_output_file(file_path):\n",
    "    paths = []  # 用于存储所有路径数据\n",
    "    missing_net_ids = []  # 用于存储没有路径的 net_id\n",
    "    with open(file_path, 'r') as file:\n",
    "        net_number = int(file.readline().strip())\n",
    "        for _ in range(net_number):\n",
    "            net_id = int(file.readline().strip())\n",
    "            path = []\n",
    "            line = file.readline().strip()\n",
    "            if line == '0':\n",
    "                missing_net_ids.append(net_id)\n",
    "            else:\n",
    "                while line != '0':\n",
    "                    layer_info, x_coord, y_coord = map(int, line.split())\n",
    "                    path.append({'layer': layer_info, 'x': x_coord, 'y': y_coord})\n",
    "                    line = file.readline().strip()\n",
    "                paths.append({'net_id': net_id, 'path': path})  # 将路径数据添加到 paths 列表中\n",
    "    if missing_net_ids:\n",
    "        for net_id in missing_net_ids:\n",
    "            print(f\"没有布线的节点: {net_id}\")\n",
    "    else:\n",
    "        print(\"所有的节点均已布线.\")\n",
    "    return paths, missing_net_ids\n",
    "\n",
    "def check_duplicate_points(output_data):\n",
    "    visited_points = set()\n",
    "    duplicate_points = {}\n",
    "    for net in output_data:\n",
    "        net_id = net['net_id']\n",
    "        for point in net['path']:\n",
    "            x = point['x']\n",
    "            y = point['y']\n",
    "            layer = point['layer']\n",
    "            point_tuple = (x, y, layer)\n",
    "            if point_tuple in visited_points:\n",
    "                if point_tuple in duplicate_points:\n",
    "                    duplicate_points[point_tuple].append(net_id)\n",
    "                else:\n",
    "                    duplicate_points[point_tuple] = [net_id]\n",
    "            else:\n",
    "                visited_points.add(point_tuple)\n",
    "    \n",
    "    if len(duplicate_points) > 0:\n",
    "        print(\"存在重复的点:\")\n",
    "        for point, net_ids in duplicate_points.items():\n",
    "            print(f\"X: {point[0]}, Y: {point[1]}, Layer: {point[2]}\")\n",
    "            print(\"重复的Net ID:\", net_ids)\n",
    "    else:\n",
    "        print(\"未找到重复的点。\")\n",
    "    \n",
    "    return duplicate_points\n",
    "\n",
    "\n",
    "def check_adjacent_points(path):\n",
    "    for i in range(len(path) - 1):\n",
    "        current_point = path[i]\n",
    "        next_point = path[i + 1]\n",
    "        diff_count = 0\n",
    "        if current_point['x'] != next_point['x']:\n",
    "            diff_count += 1\n",
    "        if current_point['y'] != next_point['y']:\n",
    "            diff_count += 1\n",
    "        if current_point['layer'] != next_point['layer']:\n",
    "            diff_count += 1\n",
    "        if diff_count != 1:\n",
    "            return False\n",
    "    return True\n",
    "\n",
    "def check_adjacent_paths(paths):\n",
    "    incorrect_paths = []  # 存储不正确的路径的 ID\n",
    "    for data in paths:\n",
    "        path = data['path']\n",
    "        is_adjacent = check_adjacent_points(path)\n",
    "        if not is_adjacent:\n",
    "            incorrect_paths.append(data['net_id'])\n",
    "    if len(incorrect_paths) > 0:\n",
    "        print(\"不连续布线的Net ID:\",incorrect_paths)\n",
    "    else:\n",
    "        print(\"所有布线都连续\")\n",
    "    return\n",
    "\n",
    "\n",
    "def check_path_coordinates(paths, nets):\n",
    "    matching_paths = []  # 用于存储匹配的路径数据\n",
    "    for path_data in paths:\n",
    "        net_id = path_data['net_id']\n",
    "        path = path_data['path']\n",
    "        net = next((net for net in nets if net['net_id'] == net_id), None)\n",
    "        if net is None:\n",
    "            print(f\"无法找到匹配的网络列表数据,Net ID: {net_id}\")\n",
    "        else:\n",
    "            pin1 = net['pin1']\n",
    "            pin2 = net['pin2']\n",
    "            path_start = path[0]\n",
    "            path_end = path[-1]\n",
    "            if (path_start['layer'], path_start['x'], path_start['y']) != (pin1['layer'], pin1['x'], pin1['y']):\n",
    "                print(f\"路径起点与网络列表不匹配，Net ID: {net_id}\")\n",
    "            #else:\n",
    "            #    print(f\"路径起点与网络列表匹配，Net ID: {net_id}\")\n",
    "            if (path_end['layer'], path_end['x'], path_end['y']) != (pin2['layer'], pin2['x'], pin2['y']):\n",
    "                print(f\"路径终点与网络列表不匹配，Net ID: {net_id}\")\n",
    "            else:\n",
    "                matching_paths.append(path_data)  # 添加匹配的路径数据到列表中\n",
    "\n",
    "    if len(matching_paths) == len(paths):\n",
    "        print(\"布线结果的起点和终点与Nets全部匹配\")\n",
    "    else:\n",
    "        print(\"布线结果的起点和终点与Nets发现不匹配\")\n",
    "        \n",
    "def calculate_path_cost(paths, bend_penalty, via_penalty, layer1_grid, layer2_grid):\n",
    "    total_cost = 0\n",
    "    cost_path = {}\n",
    "    for path in paths:\n",
    "        net_id = path['net_id']\n",
    "        path_data = path['path']\n",
    "        cost_path[net_id] = 0\n",
    "        cost = 0\n",
    "        # 计算每个点的成本\n",
    "        for i, point in enumerate(path_data):\n",
    "            \n",
    "            x = point['x']\n",
    "            y = point['y']\n",
    "            layer = point['layer']\n",
    "\n",
    "            if layer == 1 or layer == 2:\n",
    "                # 加上 layer1/2_grid 上对应 (x, y) 的值\n",
    "                cost += layer1_grid[x][y] if layer == 1 else layer2_grid[x][y]\n",
    "            elif layer == 3:\n",
    "                cost += via_penalty\n",
    "            if i > 1:\n",
    "                # 计算路径弯曲的成本\n",
    "                prev_prev_layer = path_data[i - 2]['layer']\n",
    "                prev_prev_x = path_data[i - 2]['x']\n",
    "                prev_prev_y = path_data[i - 2]['y']\n",
    "                prev_layer = path_data[i - 1]['layer']\n",
    "                if prev_prev_layer == layer and prev_layer == layer and (prev_prev_x != x and y != prev_prev_y):\n",
    "                    cost += bend_penalty\n",
    "        cost_path[net_id]=cost\n",
    "        total_cost += cost\n",
    "    print(\"total_cost:\",total_cost)               \n",
    "    return cost_path,total_cost"
   ]
  },
  {
   "cell_type": "code",
   "execution_count": 71,
   "metadata": {},
   "outputs": [
    {
     "name": "stdout",
     "output_type": "stream",
     "text": [
      "没有布线的节点: 2\n",
      "存在重复的点:\n",
      "X: 15, Y: 25, Layer: 2\n",
      "重复的Net ID: [4]\n",
      "不连续布线的Net ID: [4]\n",
      "bend_penalty: 50 \n",
      " via_penalty: 50\n",
      "size of layer1: (50, 50)\n",
      "size of layer2: (50, 50)\n",
      "路径起点与网络列表不匹配，Net ID: 1\n",
      "路径终点与网络列表不匹配，Net ID: 15\n",
      "布线结果的起点和终点与Nets发现不匹配\n",
      "total_cost: 1724.0\n"
     ]
    }
   ],
   "source": [
    "from parase_input_package.generate_output import *\n",
    "from parase_input_package.parase_input import *\n",
    "from parase_input_package.plot_output import *\n",
    "router_path = '../output/test.router'\n",
    "bench_name =\"bench4\"\n",
    "def evaluate_route(router_path,bench_name):\n",
    "    paths,_ = read_output_file(router_path)\n",
    "    duplicate_points = check_duplicate_points(paths)\n",
    "    check_adjacent_paths(paths)\n",
    "    netlist_file_path = '../benchmark/'+bench_name+'.nl'\n",
    "    gridfile_path  = '../benchmark/'+bench_name+'.grid'\n",
    "    nets,_ = parse_netlist(netlist_file_path)\n",
    "    _,_,bend_penalty,via_penalty,layer1_grid,layer2_grid = parse_gridfile(gridfile_path)\n",
    "    check_path_coordinates(paths, nets)\n",
    "    cost_path,total_cost=calculate_path_cost(paths, bend_penalty, via_penalty, layer1_grid.T, layer2_grid.T)\n",
    "    return duplicate_points ,cost_path,total_cost\n",
    "  \n",
    "duplicate_points ,cost_path,total_cost=evaluate_route(router_path,bench_name)  "
   ]
  }
 ],
 "metadata": {
  "kernelspec": {
   "display_name": "eda",
   "language": "python",
   "name": "python3"
  },
  "language_info": {
   "codemirror_mode": {
    "name": "ipython",
    "version": 3
   },
   "file_extension": ".py",
   "mimetype": "text/x-python",
   "name": "python",
   "nbconvert_exporter": "python",
   "pygments_lexer": "ipython3",
   "version": "3.10.11"
  },
  "orig_nbformat": 4
 },
 "nbformat": 4,
 "nbformat_minor": 2
}
