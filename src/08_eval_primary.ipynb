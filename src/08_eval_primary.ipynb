{
 "cells": [
  {
   "cell_type": "code",
   "execution_count": 1,
   "metadata": {},
   "outputs": [
    {
     "name": "stdout",
     "output_type": "stream",
     "text": [
      "bend_penalty: 10 \n",
      " via_penalty: 20\n",
      "size of layer1: (379, 492)\n",
      "size of layer2: (379, 492)\n"
     ]
    }
   ],
   "source": [
    "from parase_input_package.generate_output import *\n",
    "from parase_input_package.parase_input import *\n",
    "from parase_input_package.plot_output import *\n",
    "netlist_file_path = '../benchmark/primary1.nl'\n",
    "gridfile_path  = '../benchmark/primary1.grid'\n",
    "nets,net_num = parse_netlist(netlist_file_path)\n",
    "rows,columns,bend_penalty,via_penalty,layer1_grid_original,layer2_grid_original = parse_gridfile(gridfile_path)"
   ]
  },
  {
   "cell_type": "code",
   "execution_count": 61,
   "metadata": {},
   "outputs": [],
   "source": [
    "import time\n",
    "s1=time.time()\n",
    "\n"
   ]
  },
  {
   "cell_type": "code",
   "execution_count": 62,
   "metadata": {},
   "outputs": [
    {
     "data": {
      "text/plain": [
       "4.395827770233154"
      ]
     },
     "execution_count": 62,
     "metadata": {},
     "output_type": "execute_result"
    }
   ],
   "source": [
    "s2=time.time()\n",
    "s2-s1"
   ]
  },
  {
   "cell_type": "code",
   "execution_count": 50,
   "metadata": {},
   "outputs": [
    {
     "data": {
      "text/plain": [
       "5"
      ]
     },
     "execution_count": 50,
     "metadata": {},
     "output_type": "execute_result"
    }
   ],
   "source": [
    "nets.index(nets[5])"
   ]
  },
  {
   "cell_type": "code",
   "execution_count": 31,
   "metadata": {},
   "outputs": [
    {
     "data": {
      "text/plain": [
       "[156, 16, 1, 5, 6, 8, 7, 9, 0, 11]"
      ]
     },
     "execution_count": 31,
     "metadata": {},
     "output_type": "execute_result"
    }
   ],
   "source": [
    "for item in bad:\n",
    "    net_bad = nets.pop(nets.index(item))\n",
    "    nets.insert(0,net_bad)\n",
    "nets"
   ]
  },
  {
   "cell_type": "code",
   "execution_count": 12,
   "metadata": {},
   "outputs": [
    {
     "name": "stdout",
     "output_type": "stream",
     "text": [
      ">>>>>>>>>>Start evaluation: industry1 <<<<<<<<<<\n",
      "All nets are routed\n",
      "No overlapping points found\n",
      "All paths are continuous\n",
      "Start and end points match all Nets\n",
      "Total costs: 430793.0\n",
      ">>>>>>>>>>>>>>Evaluation completed<<<<<<<<<<<<<<<\n"
     ]
    }
   ],
   "source": [
    "from parase_input_package.evaluate import *\n",
    "router_path = '../out/industry1_0526.router'\n",
    "bench_name =\"industry1\"\n",
    "duplicate_points ,cost_path,total_cost=evaluate_route(router_path,bench_name)"
   ]
  },
  {
   "cell_type": "code",
   "execution_count": 13,
   "metadata": {},
   "outputs": [
    {
     "name": "stdout",
     "output_type": "stream",
     "text": [
      ">>>>>>>>>>Start evaluation: primary1 <<<<<<<<<<\n",
      "All nets are routed\n",
      "No overlapping points found\n",
      "All paths are continuous\n",
      "Start and end points match all Nets\n",
      "Total costs: 111165.0\n",
      ">>>>>>>>>>>>>>Evaluation completed<<<<<<<<<<<<<<<\n"
     ]
    }
   ],
   "source": [
    "from parase_input_package.evaluate import *\n",
    "router_path = '../out/primary1_0526.router'\n",
    "bench_name =\"primary1\"\n",
    "duplicate_points ,cost_path,total_cost=evaluate_route(router_path,bench_name)"
   ]
  },
  {
   "cell_type": "code",
   "execution_count": 72,
   "metadata": {},
   "outputs": [
    {
     "name": "stdout",
     "output_type": "stream",
     "text": [
      ">>>>>>>>>>Start evaluation: bench1 <<<<<<<<<<\n",
      "All nets are routed\n",
      "No overlapping points found\n",
      "All paths are continuous\n",
      "Start and end points match all Nets\n",
      "Total costs: 372.0\n",
      ">>>>>>>>>>>>>>Evaluation completed<<<<<<<<<<<<<<<\n"
     ]
    }
   ],
   "source": [
    "router_path = '../out/bench1_0526.router'\n",
    "bench_name =\"bench1\"\n",
    "duplicate_points ,cost_path,total_cost=evaluate_route(router_path,bench_name)"
   ]
  },
  {
   "cell_type": "code",
   "execution_count": 73,
   "metadata": {},
   "outputs": [
    {
     "name": "stdout",
     "output_type": "stream",
     "text": [
      ">>>>>>>>>>Start evaluation: bench2 <<<<<<<<<<\n",
      "All nets are routed\n",
      "No overlapping points found\n",
      "All paths are continuous\n",
      "Start and end points match all Nets\n",
      "Total costs: 1760.0\n",
      ">>>>>>>>>>>>>>Evaluation completed<<<<<<<<<<<<<<<\n"
     ]
    }
   ],
   "source": [
    "router_path = '../out/bench2_0526.router'\n",
    "bench_name =\"bench2\"\n",
    "duplicate_points ,cost_path,total_cost=evaluate_route(router_path,bench_name)"
   ]
  },
  {
   "cell_type": "code",
   "execution_count": 74,
   "metadata": {},
   "outputs": [
    {
     "name": "stdout",
     "output_type": "stream",
     "text": [
      ">>>>>>>>>>Start evaluation: bench3 <<<<<<<<<<\n",
      "All nets are routed\n",
      "No overlapping points found\n",
      "All paths are continuous\n",
      "Start and end points match all Nets\n",
      "Total costs: 469.0\n",
      ">>>>>>>>>>>>>>Evaluation completed<<<<<<<<<<<<<<<\n"
     ]
    }
   ],
   "source": [
    "router_path = '../out/bench3_0526.router'\n",
    "bench_name =\"bench3\"\n",
    "duplicate_points ,cost_path,total_cost=evaluate_route(router_path,bench_name)"
   ]
  },
  {
   "cell_type": "code",
   "execution_count": 37,
   "metadata": {},
   "outputs": [
    {
     "name": "stdout",
     "output_type": "stream",
     "text": [
      ">>>>>>>>>>Start evaluation: bench4 <<<<<<<<<<\n",
      "All nets are routed\n",
      "No overlapping points found\n",
      "All paths are continuous\n",
      "Start and end points match all Nets\n",
      "Total costs: 1793.0\n",
      ">>>>>>>>>>>>>>Evaluation completed<<<<<<<<<<<<<<<\n"
     ]
    }
   ],
   "source": [
    "router_path = '../out/bench4_0526.router'\n",
    "bench_name =\"bench4\"\n",
    "duplicate_points ,cost_path,total_cost=evaluate_route(router_path,bench_name)"
   ]
  },
  {
   "cell_type": "code",
   "execution_count": 11,
   "metadata": {},
   "outputs": [
    {
     "name": "stdout",
     "output_type": "stream",
     "text": [
      ">>>>>>>>>>Start evaluation: bench5 <<<<<<<<<<\n",
      "All nets are routed\n",
      "No overlapping points found\n",
      "All paths are continuous\n",
      "Start and end points match all Nets\n",
      "Total costs: 11458.0\n",
      ">>>>>>>>>>>>>>Evaluation completed<<<<<<<<<<<<<<<\n"
     ]
    }
   ],
   "source": [
    "from parase_input_package.evaluate import *\n",
    "router_path = '../out/bench5_0526.router'\n",
    "bench_name =\"bench5\"\n",
    "duplicate_points ,cost_path,total_cost=evaluate_route(router_path,bench_name)"
   ]
  },
  {
   "cell_type": "code",
   "execution_count": 10,
   "metadata": {},
   "outputs": [
    {
     "name": "stdout",
     "output_type": "stream",
     "text": [
      ">>>>>>>>>>Start evaluation: fract2 <<<<<<<<<<\n",
      "All nets are routed\n",
      "No overlapping points found\n",
      "All paths are continuous\n",
      "Start and end points match all Nets\n",
      "Total costs: 11050.0\n",
      ">>>>>>>>>>>>>>Evaluation completed<<<<<<<<<<<<<<<\n"
     ]
    }
   ],
   "source": [
    "router_path = '../out/fract2_0526.router'\n",
    "bench_name =\"fract2\"\n",
    "duplicate_points ,cost_path,total_cost=evaluate_route(router_path,bench_name)"
   ]
  },
  {
   "cell_type": "code",
   "execution_count": 60,
   "metadata": {},
   "outputs": [
    {
     "name": "stdout",
     "output_type": "stream",
     "text": [
      "所有的节点均已布线.\n",
      "未找到重复的点。\n",
      "所有布线都连续\n",
      "bend_penalty: 10 \n",
      " via_penalty: 20\n",
      "布线结果的起点和终点与Nets全部匹配\n",
      "total_cost: 11596.0\n"
     ]
    }
   ],
   "source": [
    "router_path = '../out/fract2_0525.router'\n",
    "bench_name =\"fract2\"\n",
    "duplicate_points ,cost_path,total_cost=evaluate_route(router_path,bench_name)"
   ]
  },
  {
   "cell_type": "code",
   "execution_count": 36,
   "metadata": {},
   "outputs": [
    {
     "name": "stdout",
     "output_type": "stream",
     "text": [
      ">>>>>>>>>>Start evaluation: fract2 <<<<<<<<<<\n",
      "All nets are routed\n",
      "No overlapping points found\n",
      "All paths are continuous\n",
      "Start and end points match all Nets\n",
      "Total costs: 11852.0\n",
      ">>>>>>>>>>>>>>Evaluation completed<<<<<<<<<<<<<<<\n"
     ]
    }
   ],
   "source": [
    "router_path = '../out/fract2_0526.router'\n",
    "bench_name =\"fract2\"\n",
    "duplicate_points ,cost_path,total_cost=evaluate_route(router_path,bench_name)"
   ]
  }
 ],
 "metadata": {
  "kernelspec": {
   "display_name": "eda",
   "language": "python",
   "name": "python3"
  },
  "language_info": {
   "codemirror_mode": {
    "name": "ipython",
    "version": 3
   },
   "file_extension": ".py",
   "mimetype": "text/x-python",
   "name": "python",
   "nbconvert_exporter": "python",
   "pygments_lexer": "ipython3",
   "version": "3.10.11"
  },
  "orig_nbformat": 4
 },
 "nbformat": 4,
 "nbformat_minor": 2
}
