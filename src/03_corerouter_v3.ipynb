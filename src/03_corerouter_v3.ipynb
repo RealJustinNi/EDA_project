{
 "cells": [
  {
   "attachments": {},
   "cell_type": "markdown",
   "metadata": {},
   "source": [
    "# V3：两层"
   ]
  },
  {
   "cell_type": "code",
   "execution_count": 1,
   "metadata": {},
   "outputs": [
    {
     "name": "stdout",
     "output_type": "stream",
     "text": [
      "bend_penalty: 10 \n",
      " via_penalty: 100\n",
      "size of layer1: (60, 60)\n",
      "size of layer2: (60, 60)\n"
     ]
    }
   ],
   "source": [
    "from parase_input_package.generate_output import *\n",
    "from parase_input_package.parase_input import *\n",
    "from parase_input_package.plot_output import *\n",
    "from queue import Queue\n",
    "filepath_out='../output/bench3.router'\n",
    "netlist_file_path = '../benchmark/bench3.nl'\n",
    "gridfile_path  = '../benchmark/bench3.grid'\n",
    "nets,net_num = parse_netlist(netlist_file_path)\n",
    "rows,columns,bend_penalty,via_penalty,layer1_grid_original,layer2_grid_original = parse_gridfile(gridfile_path)"
   ]
  },
  {
   "cell_type": "code",
   "execution_count": 2,
   "metadata": {},
   "outputs": [],
   "source": [
    "# plot problem 根据grid文件可视化障碍物和每个格子的cost，同时标出source和target 目前支持到同一层S-T对的情况，显示两层\n",
    "plot_problem(\"../output/bench3_problem.jpg\",columns,rows,layer1_grid_original,layer2_grid_original,nets)"
   ]
  },
  {
   "cell_type": "code",
   "execution_count": 3,
   "metadata": {},
   "outputs": [],
   "source": [
    "def reconstruct_path(source, target, parents):\n",
    "    path = []\n",
    "    current = target\n",
    "    while current != source:\n",
    "        path.append(current)\n",
    "        current = parents[current]\n",
    "    path.append(source)\n",
    "    path.reverse()\n",
    "    return path\n",
    "\n",
    "def mark_path_on_grid(layer1_grid, path):\n",
    "    #print(path)\n",
    "    for cell in path:\n",
    "        x, y, _ = cell\n",
    "        layer1_grid[x][y] = -1"
   ]
  },
  {
   "cell_type": "code",
   "execution_count": 4,
   "metadata": {},
   "outputs": [],
   "source": [
    "def get_cell_cost(layer1_grid, cell,path_tmp,bend_penalty):\n",
    "    x, y, layer = cell\n",
    "    cell_cost = 1  # 默认的单元代价\n",
    "    if layer1_grid[x][y] == -1:\n",
    "        cell_cost = float('inf')  # -1表示无法通过的细胞\n",
    "    elif layer1_grid[x][y] != 1:\n",
    "        cell_cost = layer1_grid[x][y]  # 非单元代价\n",
    "    if len(path_tmp) >= 2:\n",
    "        prev_cell = path_tmp[-2]\n",
    "        prev_x, prev_y, prev_layer = prev_cell\n",
    "        if layer != prev_layer and (prev_x != x or prev_y != y):  # 方向变化\n",
    "            cell_cost += bend_penalty\n",
    "    return cell_cost\n",
    "\n",
    "def expand_source_to_target(rows, columns, layer1_grid, source, target,bend_penalty):\n",
    "    queue = Queue()\n",
    "    visited = set()\n",
    "    parents = {}\n",
    "    costs = {}  # Store the cumulative costs for each cell\n",
    "    \n",
    "    source_tuple = (source['x'], source['y'], source['layer'])\n",
    "    target_tuple = (target['x'], target['y'], target['layer'])\n",
    "    \n",
    "    queue.put(source_tuple)\n",
    "    visited.add(source_tuple)\n",
    "    costs[source_tuple] = 0  # Initial cost for the source cell is 0\n",
    "\n",
    "    while not queue.empty():\n",
    "        current_cell = queue.get()\n",
    "\n",
    "        if current_cell == target_tuple:\n",
    "            path = reconstruct_path(source_tuple, target_tuple, parents)\n",
    "            return path,costs\n",
    "\n",
    "        neighbors = get_neighbors(rows, columns, current_cell)\n",
    "\n",
    "        for neighbor in neighbors:\n",
    "            neighbor_tuple = (neighbor['x'], neighbor['y'], neighbor['layer'])\n",
    "            path_tmp= reconstruct_path(source_tuple, current_cell, parents)\n",
    "            # Calculate the cost to reach the neighbor cell\n",
    "            cost = costs[current_cell] + get_cell_cost(layer1_grid, neighbor_tuple,path_tmp,bend_penalty)\n",
    "\n",
    "            if neighbor_tuple not in visited or cost < costs[neighbor_tuple]:\n",
    "                queue.put(neighbor_tuple)\n",
    "                visited.add(neighbor_tuple)\n",
    "                parents[neighbor_tuple] = current_cell\n",
    "                costs[neighbor_tuple] = cost\n",
    "    return []\n",
    "\n",
    "# modified by junjun\n",
    "def expand_source_to_target_jun(rows, columns, layer1_grid, source, target,bend_penalty):\n",
    "    wavefront = {}\n",
    "    visited = set()\n",
    "    parents = {}\n",
    "    costs = {}  # Store the cumulative costs for each cell\n",
    "    \n",
    "    source_tuple = (source['x'], source['y'], source['layer'])\n",
    "    target_tuple = (target['x'], target['y'], target['layer'])\n",
    "    \n",
    "    wavefront[source_tuple] = 0\n",
    "    costs[source_tuple] = 0  # Initial cost for the source cell is 0\n",
    "\n",
    "    while wavefront:\n",
    "        # get lowest cost cell on a wavefront structure\n",
    "        current_cell = sorted(wavefront.items(),key=lambda s:int(s[1]))[0][0]\n",
    "\n",
    "        if current_cell == target_tuple:\n",
    "            path = reconstruct_path(source_tuple, target_tuple, parents)\n",
    "            return path,costs\n",
    "\n",
    "        neighbors = get_neighbors(rows, columns, current_cell)\n",
    "\n",
    "        for neighbor in neighbors:\n",
    "            neighbor_tuple = (neighbor['x'], neighbor['y'], neighbor['layer'])\n",
    "\n",
    "            if neighbor_tuple not in visited:\n",
    "                path_tmp= reconstruct_path(source_tuple, current_cell, parents)\n",
    "                # Calculate the cost to reach the neighbor cell\n",
    "                cost = costs[current_cell] + get_cell_cost(layer1_grid, neighbor_tuple,path_tmp,bend_penalty)\n",
    "                \n",
    "                # ignore blocks\n",
    "                if cost!= np.inf:\n",
    "                    if neighbor_tuple not in wavefront.keys() or costs[neighbor_tuple] > cost:\n",
    "                        costs[neighbor_tuple] = cost\n",
    "                        parents[neighbor_tuple] = current_cell\n",
    "\n",
    "                    if neighbor_tuple not in wavefront.keys():\n",
    "                        # add cell N to waveform, indexed by pathcost\n",
    "                        wavefront[neighbor_tuple]=cost         \n",
    "\n",
    "        visited.add(current_cell)    \n",
    "        del wavefront[current_cell]                  \n",
    "    return None,None\n",
    "\n",
    "def get_neighbors(rows, columns, cell):\n",
    "    x, y, layer = cell\n",
    "    neighbors = []\n",
    "    if x > 0:\n",
    "        neighbors.append({'x': x - 1, 'y': y, 'layer': layer})\n",
    "    if x < columns - 1:\n",
    "        neighbors.append({'x': x + 1, 'y': y, 'layer': layer})\n",
    "    if y > 0:\n",
    "        neighbors.append({'x': x, 'y': y - 1, 'layer': layer})\n",
    "    if y < rows - 1:\n",
    "        neighbors.append({'x': x, 'y': y + 1, 'layer': layer})\n",
    "\n",
    "    return neighbors"
   ]
  },
  {
   "cell_type": "code",
   "execution_count": 5,
   "metadata": {},
   "outputs": [],
   "source": [
    "def nounit_bend_penalty_cost_router(rows, columns, layer1_grid, nets,bend_penalty):\n",
    "    routing_table = {}\n",
    "    for net in nets:\n",
    "        net_id = net['net_id']\n",
    "        pin1 = net['pin1']\n",
    "        pin2 = net['pin2']\n",
    "        layer1_grid[pin1['x']][pin1['y']] = -1\n",
    "        layer1_grid[pin2['x']][pin2['y']] = -1\n",
    "        ## 防止布线在后续的pin上，先将所有的pin标记为-1；\n",
    "        \n",
    "    for net in nets:\n",
    "        net_id = net['net_id']\n",
    "        pin1 = net['pin1']\n",
    "        pin2 = net['pin2']\n",
    "        layer1_grid[pin1['x']][pin1['y']] = 1\n",
    "        layer1_grid[pin2['x']][pin2['y']] = 1\n",
    "        path,costs = expand_source_to_target_jun(rows, columns, layer1_grid, pin1, pin2,bend_penalty) # 少了第二个return jun\n",
    "        mark_path_on_grid(layer1_grid,path)\n",
    "        routing_table[net_id] = path\n",
    "    return routing_table,costs"
   ]
  },
  {
   "cell_type": "code",
   "execution_count": 6,
   "metadata": {},
   "outputs": [
    {
     "name": "stdout",
     "output_type": "stream",
     "text": [
      "{1: [(2, 57, 1), (2, 56, 1), (2, 55, 1), (2, 54, 1), (2, 53, 1), (2, 52, 1), (2, 51, 1), (2, 50, 1), (2, 49, 1)], 3: [(3, 57, 1), (3, 56, 1), (3, 55, 1), (3, 54, 1), (3, 53, 1), (3, 52, 1), (3, 51, 1), (3, 50, 1), (3, 49, 1)], 5: [(4, 57, 1), (5, 57, 1), (5, 56, 1), (5, 55, 1), (5, 54, 1), (5, 53, 1), (5, 52, 1), (5, 51, 1), (5, 50, 1), (5, 49, 1)], 7: [(6, 57, 1), (7, 57, 1), (8, 57, 1), (8, 56, 1), (8, 55, 1), (8, 54, 1), (8, 53, 1), (8, 52, 1), (8, 51, 1), (8, 50, 1), (8, 49, 1)], 9: [(9, 57, 1), (10, 57, 1), (11, 57, 1), (12, 57, 1), (12, 56, 1), (12, 55, 1), (12, 54, 1), (12, 53, 1), (12, 52, 1), (12, 51, 1), (12, 50, 1), (12, 49, 1)], 11: [(1, 29, 1), (2, 29, 1), (3, 29, 1), (4, 29, 1), (5, 29, 1), (6, 29, 1), (7, 29, 1), (8, 29, 1), (9, 29, 1), (10, 29, 1), (11, 29, 1), (12, 29, 1), (13, 29, 1), (14, 29, 1), (15, 29, 1), (16, 29, 1), (17, 29, 1), (18, 29, 1), (19, 29, 1)], 13: [(21, 29, 1), (22, 29, 1), (23, 29, 1), (23, 28, 1), (23, 27, 1), (23, 26, 1), (23, 25, 1), (23, 24, 1), (23, 23, 1), (24, 23, 1), (25, 23, 1), (26, 23, 1), (27, 23, 1), (28, 23, 1), (29, 23, 1), (30, 23, 1), (31, 23, 1), (32, 23, 1), (33, 23, 1), (34, 23, 1), (35, 23, 1), (36, 23, 1), (37, 23, 1), (38, 23, 1), (39, 23, 1), (39, 24, 1), (39, 25, 1), (39, 26, 1), (39, 27, 1), (39, 28, 1), (39, 29, 1)], 15: [(41, 29, 1), (42, 29, 1), (43, 29, 1), (43, 28, 1), (43, 27, 1), (43, 26, 1), (43, 25, 1), (43, 24, 1), (43, 23, 1), (44, 23, 1), (45, 23, 1), (46, 23, 1), (47, 23, 1), (48, 23, 1), (49, 23, 1), (50, 23, 1), (51, 23, 1), (52, 23, 1), (53, 23, 1), (54, 23, 1), (55, 23, 1), (56, 23, 1), (57, 23, 1), (58, 23, 1), (59, 23, 1), (59, 24, 1), (59, 25, 1), (59, 26, 1), (59, 27, 1), (59, 28, 1), (59, 29, 1)]}\n"
     ]
    }
   ],
   "source": [
    "layer1_grid = layer1_grid_original\n",
    "routing_table,cost1 = nounit_bend_penalty_cost_router(rows,columns,layer1_grid.T,[x for x in nets if x['pin1']['layer']==1 and x['pin2']['layer']==1],bend_penalty)\n",
    "print(routing_table)\n",
    "#generate_output_file(filepath_out,net_num,routing_table)\n",
    "plot_path('../output/bench3_v3_layer1.jpg',columns=columns,rows=rows,block_list=np.argwhere(layer1_grid.T==-1),path_dict=routing_table)"
   ]
  },
  {
   "cell_type": "code",
   "execution_count": 7,
   "metadata": {},
   "outputs": [
    {
     "name": "stdout",
     "output_type": "stream",
     "text": [
      "{2: [(56, 56, 2), (55, 56, 2), (54, 56, 2), (53, 56, 2), (52, 56, 2), (51, 56, 2), (50, 56, 2), (49, 56, 2), (48, 56, 2), (47, 56, 2), (46, 56, 2), (45, 56, 2)], 4: [(56, 55, 2), (55, 55, 2), (54, 55, 2), (53, 55, 2), (52, 55, 2), (51, 55, 2), (50, 55, 2), (49, 55, 2), (48, 55, 2), (47, 55, 2), (46, 55, 2), (45, 55, 2)], 6: [(56, 54, 2), (55, 54, 2), (54, 54, 2), (53, 54, 2), (52, 54, 2), (52, 53, 2), (51, 53, 2), (50, 53, 2), (49, 53, 2), (48, 53, 2), (47, 53, 2), (46, 53, 2), (45, 53, 2)], 8: [(56, 52, 2), (55, 52, 2), (54, 52, 2), (53, 52, 2), (52, 52, 2), (52, 51, 2), (52, 50, 2), (51, 50, 2), (50, 50, 2), (49, 50, 2), (48, 50, 2), (47, 50, 2), (46, 50, 2), (45, 50, 2)], 10: [(56, 49, 2), (55, 49, 2), (54, 49, 2), (53, 49, 2), (52, 49, 2), (52, 48, 2), (52, 47, 2), (52, 46, 2), (51, 46, 2), (50, 46, 2), (49, 46, 2), (48, 46, 2), (47, 46, 2), (46, 46, 2), (45, 46, 2)], 12: [(9, 19, 2), (9, 18, 2), (9, 17, 2), (9, 16, 2), (9, 15, 2), (9, 14, 2), (9, 13, 2), (9, 12, 2), (9, 11, 2), (9, 10, 2), (9, 9, 2), (9, 8, 2), (9, 7, 2), (9, 6, 2), (9, 5, 2), (9, 4, 2), (9, 3, 2), (9, 2, 2), (9, 1, 2)], 14: [(29, 19, 2), (28, 19, 2), (27, 19, 2), (26, 19, 2), (25, 19, 2), (24, 19, 2), (23, 19, 2), (23, 18, 2), (23, 17, 2), (23, 16, 2), (23, 15, 2), (23, 14, 2), (23, 13, 2), (23, 12, 2), (23, 11, 2), (23, 10, 2), (23, 9, 2), (23, 8, 2), (23, 7, 2), (23, 6, 2), (23, 5, 2), (23, 4, 2), (23, 3, 2), (24, 3, 2), (25, 3, 2), (26, 3, 2), (27, 3, 2), (28, 3, 2), (29, 3, 2), (29, 2, 2), (29, 1, 2)], 16: [(49, 19, 2), (48, 19, 2), (47, 19, 2), (46, 19, 2), (45, 19, 2), (44, 19, 2), (43, 19, 2), (43, 18, 2), (43, 17, 2), (43, 16, 2), (43, 15, 2), (43, 14, 2), (43, 13, 2), (43, 12, 2), (43, 11, 2), (43, 10, 2), (43, 9, 2), (43, 8, 2), (43, 7, 2), (43, 6, 2), (43, 5, 2), (43, 4, 2), (43, 3, 2), (44, 3, 2), (45, 3, 2), (46, 3, 2), (47, 3, 2), (48, 3, 2), (49, 3, 2), (49, 2, 2), (49, 1, 2)]}\n"
     ]
    }
   ],
   "source": [
    "if [x for x in nets if x['pin1']['layer']==2 and x['pin2']['layer']==2]:\n",
    "    layer2_grid = layer2_grid_original\n",
    "    routing_table2,cost2 = nounit_bend_penalty_cost_router(rows,columns,layer2_grid.T,[x for x in nets if x['pin1']['layer']==2 and x['pin2']['layer']==2],bend_penalty)\n",
    "    print(routing_table2)\n",
    "    #generate_output_file(filepath_out,net_num,routing_table2)\n",
    "    plot_path('../output/bench3_v3_layer2.jpg',columns=columns,rows=rows,block_list=np.argwhere(layer2_grid.T==-1),path_dict=routing_table2)"
   ]
  },
  {
   "cell_type": "code",
   "execution_count": 8,
   "metadata": {},
   "outputs": [],
   "source": [
    "# 合并一下再输出 顺便按字典键从小到大排序\n",
    "routing_table.update(routing_table2)\n",
    "generate_output_file(filepath_out,net_num,dict(sorted(routing_table.items(),key=lambda x:x[0])))"
   ]
  }
 ],
 "metadata": {
  "kernelspec": {
   "display_name": "eda",
   "language": "python",
   "name": "python3"
  },
  "language_info": {
   "codemirror_mode": {
    "name": "ipython",
    "version": 3
   },
   "file_extension": ".py",
   "mimetype": "text/x-python",
   "name": "python",
   "nbconvert_exporter": "python",
   "pygments_lexer": "ipython3",
   "version": "3.10.9"
  },
  "orig_nbformat": 4
 },
 "nbformat": 4,
 "nbformat_minor": 2
}
