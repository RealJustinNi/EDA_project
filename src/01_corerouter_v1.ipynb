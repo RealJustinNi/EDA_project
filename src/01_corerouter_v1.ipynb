{
 "cells": [
  {
   "cell_type": "code",
   "execution_count": 6,
   "metadata": {},
   "outputs": [
    {
     "name": "stdout",
     "output_type": "stream",
     "text": [
      "bend_penalty: 5 \n",
      " via_penalty: 1\n",
      "size of layer1: (50, 50)\n",
      "size of layer2: (50, 50)\n",
      "20\n"
     ]
    }
   ],
   "source": [
    "from parase_input_package.generate_output import *\n",
    "from parase_input_package.parase_input import *\n",
    "from parase_input_package.plot_output import *\n",
    "from queue import Queue\n",
    "filepath_out='../output/bench1.router'\n",
    "netlist_file_path = '../benchmark/bench1.nl'\n",
    "gridfile_path  = '../benchmark/bench1.grid'\n",
    "\n",
    "rows,columns,bend_penalty,via_penalty,layer1_gird,layer2_grid = parse_gridfile(gridfile_path)\n",
    "nets,net_num = parse_netlist(netlist_file_path)\n",
    "print(net_num)"
   ]
  },
  {
   "cell_type": "code",
   "execution_count": 7,
   "metadata": {},
   "outputs": [],
   "source": [
    "plot_path(\"../output/bench1_block.jpg\",columns=columns,rows=rows,block_list=np.argwhere(layer1_gird.T==-1),path_dict={})"
   ]
  },
  {
   "cell_type": "code",
   "execution_count": 8,
   "metadata": {},
   "outputs": [],
   "source": [
    "def unit_cost_router(rows, columns, layer1_grid, nets):\n",
    "    routing_table = {}\n",
    "    for net in nets:\n",
    "        net_id = net['net_id']\n",
    "        pin1 = net['pin1']\n",
    "        pin2 = net['pin2']\n",
    "        layer1_grid[pin1['x']][pin1['y']] = -1\n",
    "        layer1_grid[pin2['x']][pin2['y']] = -1\n",
    "        ## 防止布线在后续的pin上，先将所有的pin标记为-1；\n",
    "        \n",
    "    for net in nets:\n",
    "        net_id = net['net_id']\n",
    "        pin1 = net['pin1']\n",
    "        pin2 = net['pin2']\n",
    "        # 将需要布线的两个pin重新标回可布线状态\n",
    "        layer1_grid[pin1['x']][pin1['y']] = 1\n",
    "        layer1_grid[pin2['x']][pin2['y']] = 1\n",
    "        path = expand_source_to_target(rows, columns, layer1_grid, pin1, pin2)\n",
    "        mark_path_on_grid(layer1_grid,path)\n",
    "        routing_table[net_id] = path\n",
    "    return routing_table\n",
    "\n",
    "\n",
    "\n",
    "def expand_source_to_target(rows, columns, layer1_grid, source, target):\n",
    "    queue = Queue()\n",
    "    visited = set()\n",
    "    parents = {}\n",
    "\n",
    "    source_tuple = (source['x'], source['y'], source['layer'])\n",
    "    target_tuple = (target['x'], target['y'], target['layer'])\n",
    "    \n",
    "    queue.put(source_tuple)\n",
    "    visited.add(source_tuple)\n",
    "\n",
    "    while not queue.empty():\n",
    "        current_cell = queue.get()\n",
    "\n",
    "        if current_cell == target_tuple:\n",
    "            # backtrace\n",
    "            path = reconstruct_path(source_tuple, target_tuple, parents)\n",
    "            return path\n",
    "\n",
    "        neighbors = get_neighbors(rows, columns, current_cell)\n",
    "\n",
    "        for neighbor in neighbors:\n",
    "            neighbor_tuple = (neighbor['x'], neighbor['y'], neighbor['layer'])\n",
    "            if neighbor_tuple not in visited:\n",
    "                if layer1_grid[neighbor['x']][neighbor['y']] != -1:\n",
    "                    queue.put(neighbor_tuple)\n",
    "                    visited.add(neighbor_tuple)\n",
    "                    parents[neighbor_tuple] = current_cell\n",
    "\n",
    "    return []\n",
    "\n",
    "def get_neighbors(rows, columns, cell):\n",
    "    x, y, layer = cell\n",
    "    neighbors = []\n",
    "    if x > 0:\n",
    "        neighbors.append({'x': x - 1, 'y': y, 'layer': layer})\n",
    "    if x < columns - 1:\n",
    "        neighbors.append({'x': x + 1, 'y': y, 'layer': layer})\n",
    "    if y > 0:\n",
    "        neighbors.append({'x': x, 'y': y - 1, 'layer': layer})\n",
    "    if y < rows - 1:\n",
    "        neighbors.append({'x': x, 'y': y + 1, 'layer': layer})\n",
    "\n",
    "    return neighbors\n",
    "\n",
    "\n",
    "def reconstruct_path(source, target, parents):\n",
    "    path = []\n",
    "    current = target\n",
    "    while current != source:\n",
    "        path.append(current)\n",
    "        current = parents[current]\n",
    "    path.append(source)\n",
    "    path.reverse()\n",
    "    return path\n",
    "\n",
    "def mark_path_on_grid(layer1_grid, path):\n",
    "    for cell in path:\n",
    "        x, y, _ = cell\n",
    "        layer1_grid[x][y] = -1"
   ]
  },
  {
   "cell_type": "code",
   "execution_count": 9,
   "metadata": {},
   "outputs": [
    {
     "name": "stdout",
     "output_type": "stream",
     "text": [
      "{1: [(3, 36, 1), (3, 35, 1), (3, 34, 1), (3, 33, 1), (3, 32, 1), (3, 31, 1), (3, 30, 1), (3, 29, 1)], 2: [(4, 36, 1), (4, 35, 1), (4, 34, 1), (4, 33, 1), (4, 32, 1), (4, 31, 1), (4, 30, 1), (4, 29, 1)], 3: [(5, 36, 1), (6, 36, 1), (6, 35, 1), (6, 34, 1), (6, 33, 1), (6, 32, 1), (6, 31, 1), (6, 30, 1), (6, 29, 1)], 4: [(7, 36, 1), (8, 36, 1), (9, 36, 1), (9, 35, 1), (9, 34, 1), (9, 33, 1), (9, 32, 1), (9, 31, 1), (9, 30, 1), (9, 29, 1)], 5: [(10, 36, 1), (11, 36, 1), (12, 36, 1), (13, 36, 1), (13, 35, 1), (13, 34, 1), (13, 33, 1), (13, 32, 1), (13, 31, 1), (13, 30, 1), (13, 29, 1)], 6: [(49, 36, 1), (48, 36, 1), (47, 36, 1), (46, 36, 1), (45, 36, 1), (44, 36, 1), (43, 36, 1), (42, 36, 1), (41, 36, 1), (40, 36, 1), (39, 36, 1), (38, 36, 1), (37, 36, 1), (36, 36, 1)], 7: [(49, 35, 1), (48, 35, 1), (47, 35, 1), (46, 35, 1), (45, 35, 1), (44, 35, 1), (43, 35, 1), (42, 35, 1), (41, 35, 1), (40, 35, 1), (39, 35, 1), (38, 35, 1), (37, 35, 1), (36, 35, 1)], 8: [(49, 34, 1), (48, 34, 1), (47, 34, 1), (46, 34, 1), (45, 34, 1), (44, 34, 1), (43, 34, 1), (43, 33, 1), (42, 33, 1), (41, 33, 1), (40, 33, 1), (39, 33, 1), (38, 33, 1), (37, 33, 1), (36, 33, 1)], 9: [(49, 32, 1), (48, 32, 1), (47, 32, 1), (46, 32, 1), (45, 32, 1), (44, 32, 1), (43, 32, 1), (43, 31, 1), (43, 30, 1), (42, 30, 1), (41, 30, 1), (40, 30, 1), (39, 30, 1), (38, 30, 1), (37, 30, 1), (36, 30, 1)], 10: [(49, 29, 1), (48, 29, 1), (47, 29, 1), (46, 29, 1), (45, 29, 1), (44, 29, 1), (43, 29, 1), (43, 28, 1), (43, 27, 1), (43, 26, 1), (42, 26, 1), (41, 26, 1), (40, 26, 1), (39, 26, 1), (38, 26, 1), (37, 26, 1), (36, 26, 1)], 11: [(12, 15, 1), (12, 14, 1), (12, 13, 1), (12, 12, 1), (13, 12, 1), (14, 12, 1), (15, 12, 1)], 12: [(11, 16, 1), (11, 15, 1), (11, 14, 1), (11, 13, 1), (11, 12, 1), (11, 11, 1), (12, 11, 1), (13, 11, 1), (14, 11, 1), (15, 11, 1), (16, 11, 1)], 13: [(10, 17, 1), (10, 16, 1), (10, 15, 1), (10, 14, 1), (10, 13, 1), (10, 12, 1), (10, 11, 1), (10, 10, 1), (11, 10, 1), (12, 10, 1), (13, 10, 1), (14, 10, 1), (15, 10, 1), (16, 10, 1), (17, 10, 1)], 14: [(9, 18, 1), (9, 17, 1), (9, 16, 1), (9, 15, 1), (9, 14, 1), (9, 13, 1), (9, 12, 1), (9, 11, 1), (9, 10, 1), (9, 9, 1), (10, 9, 1), (11, 9, 1), (12, 9, 1), (13, 9, 1), (14, 9, 1), (15, 9, 1), (16, 9, 1), (17, 9, 1), (18, 9, 1)], 15: [(8, 19, 1), (8, 18, 1), (8, 17, 1), (8, 16, 1), (8, 15, 1), (8, 14, 1), (8, 13, 1), (8, 12, 1), (8, 11, 1), (8, 10, 1), (8, 9, 1), (8, 8, 1), (9, 8, 1), (10, 8, 1), (11, 8, 1), (12, 8, 1), (13, 8, 1), (14, 8, 1), (15, 8, 1), (16, 8, 1), (17, 8, 1), (18, 8, 1), (19, 8, 1)], 16: [(38, 4, 1), (38, 5, 1), (38, 6, 1), (38, 7, 1), (39, 7, 1), (40, 7, 1), (41, 7, 1)], 17: [(37, 3, 1), (37, 4, 1), (37, 5, 1), (37, 6, 1), (37, 7, 1), (37, 8, 1), (38, 8, 1), (39, 8, 1), (40, 8, 1), (41, 8, 1), (42, 8, 1)], 18: [(36, 2, 1), (36, 3, 1), (36, 4, 1), (36, 5, 1), (36, 6, 1), (36, 7, 1), (36, 8, 1), (36, 9, 1), (37, 9, 1), (38, 9, 1), (39, 9, 1), (40, 9, 1), (41, 9, 1), (42, 9, 1), (43, 9, 1)], 19: [(35, 1, 1), (35, 2, 1), (35, 3, 1), (35, 4, 1), (35, 5, 1), (35, 6, 1), (35, 7, 1), (35, 8, 1), (35, 9, 1), (35, 10, 1), (36, 10, 1), (37, 10, 1), (38, 10, 1), (39, 10, 1), (40, 10, 1), (41, 10, 1), (42, 10, 1), (43, 10, 1), (44, 10, 1)], 20: [(34, 0, 1), (34, 1, 1), (34, 2, 1), (34, 3, 1), (34, 4, 1), (34, 5, 1), (34, 6, 1), (34, 7, 1), (34, 8, 1), (34, 9, 1), (34, 10, 1), (34, 11, 1), (35, 11, 1), (36, 11, 1), (37, 11, 1), (38, 11, 1), (39, 11, 1), (40, 11, 1), (41, 11, 1), (42, 11, 1), (43, 11, 1), (44, 11, 1), (45, 11, 1)]}\n"
     ]
    }
   ],
   "source": [
    "routing_table = unit_cost_router(rows, columns, layer1_gird.T, nets)\n",
    "print(routing_table)\n",
    "generate_output_file(filepath_out, net_num, routing_table)"
   ]
  },
  {
   "cell_type": "code",
   "execution_count": 20,
   "metadata": {},
   "outputs": [],
   "source": [
    "plot_path(\"../output/bench1_v1.jpg\",columns=columns,rows=rows,block_list=np.argwhere(layer1_gird.T==-1),path_dict=routing_table)"
   ]
  }
 ],
 "metadata": {
  "kernelspec": {
   "display_name": "eda",
   "language": "python",
   "name": "python3"
  },
  "language_info": {
   "codemirror_mode": {
    "name": "ipython",
    "version": 3
   },
   "file_extension": ".py",
   "mimetype": "text/x-python",
   "name": "python",
   "nbconvert_exporter": "python",
   "pygments_lexer": "ipython3",
   "version": "3.10.11"
  },
  "orig_nbformat": 4
 },
 "nbformat": 4,
 "nbformat_minor": 2
}
