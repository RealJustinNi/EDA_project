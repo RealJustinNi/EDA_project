{
 "cells": [
  {
   "cell_type": "code",
   "execution_count": 6,
   "metadata": {},
   "outputs": [
    {
     "name": "stdout",
     "output_type": "stream",
     "text": [
      "50 50 5 1\n",
      "(50, 50)\n",
      "(50, 50)\n"
     ]
    }
   ],
   "source": [
    "from parase_input_package.generate_output import *\n",
    "from parase_input_package.parase_input import *\n",
    "rows,columns,bend_penalty,via_penalty,layer1_gird,layer2_grid = parse_gridfile('../benchmark/bench1.grid')\n",
    "netlist_file_path = '../benchmark/bench1.nl'\n",
    "nets = parse_netlist(netlist_file_path)"
   ]
  },
  {
   "cell_type": "code",
   "execution_count": 17,
   "metadata": {},
   "outputs": [],
   "source": [
    "def unit_cost_router(rows, columns, layer1_grid, nets):\n",
    "    routing_table = {}\n",
    "    for net in nets:\n",
    "        net_id = net['net_id']\n",
    "        pin1 = net['pin1']\n",
    "        pin2 = net['pin2']\n",
    "        path = expand_source_to_target(rows, columns, layer1_grid, pin1, pin2)\n",
    "        routing_table[net_id] = path\n",
    "    return routing_table\n",
    "\n",
    "def expand_source_to_target(rows, columns, layer1_grid, source, target):\n",
    "    queue = [source]\n",
    "    visited = set()\n",
    "    parents = {}\n",
    "\n",
    "    while queue:\n",
    "        current_cell = queue.pop(0)\n",
    "\n",
    "        if current_cell == target:\n",
    "            path = reconstruct_path(source, target, parents)\n",
    "            return path\n",
    "\n",
    "        visited.add((current_cell['x'], current_cell['y']))\n",
    "\n",
    "        neighbors = get_neighbors(rows, columns, current_cell)\n",
    "\n",
    "        for neighbor in neighbors:\n",
    "            neighbor_tuple = (neighbor['x'], neighbor['y'])  # 修改这一行，将字典转换为元组\n",
    "            if neighbor_tuple not in visited and neighbor_tuple not in queue:\n",
    "                queue.append(neighbor_tuple)\n",
    "                parents[neighbor_tuple] = current_cell\n",
    "\n",
    "    return []\n",
    "\n",
    "\n",
    "def get_neighbors(rows, columns, cell):\n",
    "    x, y = cell['x'], cell['y']\n",
    "    neighbors = []\n",
    "\n",
    "    if x > 0:\n",
    "        neighbors.append({'x': x - 1, 'y': y})\n",
    "    if x < columns - 1:\n",
    "        neighbors.append({'x': x + 1, 'y': y})\n",
    "    if y > 0:\n",
    "        neighbors.append({'x': x, 'y': y - 1})\n",
    "    if y < rows - 1:\n",
    "        neighbors.append({'x': x, 'y': y + 1})\n",
    "\n",
    "    return neighbors\n",
    "\n",
    "\n",
    "def reconstruct_path(source, target, parents):\n",
    "    path = []\n",
    "    current = target\n",
    "\n",
    "    while current != source:\n",
    "        path.append(current)\n",
    "        current = parents[current]\n",
    "\n",
    "    path.append(source)\n",
    "    path.reverse()\n",
    "\n",
    "    return path"
   ]
  },
  {
   "cell_type": "code",
   "execution_count": 18,
   "metadata": {},
   "outputs": [
    {
     "ename": "TypeError",
     "evalue": "tuple indices must be integers or slices, not str",
     "output_type": "error",
     "traceback": [
      "\u001b[0;31m---------------------------------------------------------------------------\u001b[0m",
      "\u001b[0;31mTypeError\u001b[0m                                 Traceback (most recent call last)",
      "Cell \u001b[0;32mIn[18], line 1\u001b[0m\n\u001b[0;32m----> 1\u001b[0m routing_res \u001b[39m=\u001b[39munit_cost_router(rows, columns, layer1_gird, nets)\n",
      "Cell \u001b[0;32mIn[17], line 9\u001b[0m, in \u001b[0;36munit_cost_router\u001b[0;34m(rows, columns, layer1_grid, nets)\u001b[0m\n\u001b[1;32m      6\u001b[0m     pin1 \u001b[39m=\u001b[39m net[\u001b[39m'\u001b[39m\u001b[39mpin1\u001b[39m\u001b[39m'\u001b[39m]\n\u001b[1;32m      7\u001b[0m     pin2 \u001b[39m=\u001b[39m net[\u001b[39m'\u001b[39m\u001b[39mpin2\u001b[39m\u001b[39m'\u001b[39m]\n\u001b[0;32m----> 9\u001b[0m     path \u001b[39m=\u001b[39m expand_source_to_target(rows, columns, layer1_grid, pin1, pin2)\n\u001b[1;32m     11\u001b[0m     routing_table[net_id] \u001b[39m=\u001b[39m path\n\u001b[1;32m     13\u001b[0m \u001b[39mreturn\u001b[39;00m routing_table\n",
      "Cell \u001b[0;32mIn[17], line 28\u001b[0m, in \u001b[0;36mexpand_source_to_target\u001b[0;34m(rows, columns, layer1_grid, source, target)\u001b[0m\n\u001b[1;32m     25\u001b[0m     path \u001b[39m=\u001b[39m reconstruct_path(source, target, parents)\n\u001b[1;32m     26\u001b[0m     \u001b[39mreturn\u001b[39;00m path\n\u001b[0;32m---> 28\u001b[0m visited\u001b[39m.\u001b[39madd((current_cell[\u001b[39m'\u001b[39;49m\u001b[39mx\u001b[39;49m\u001b[39m'\u001b[39;49m], current_cell[\u001b[39m'\u001b[39m\u001b[39my\u001b[39m\u001b[39m'\u001b[39m]))\n\u001b[1;32m     30\u001b[0m neighbors \u001b[39m=\u001b[39m get_neighbors(rows, columns, current_cell)\n\u001b[1;32m     32\u001b[0m \u001b[39mfor\u001b[39;00m neighbor \u001b[39min\u001b[39;00m neighbors:\n",
      "\u001b[0;31mTypeError\u001b[0m: tuple indices must be integers or slices, not str"
     ]
    }
   ],
   "source": [
    "routing_res =unit_cost_router(rows, columns, layer1_gird, nets)"
   ]
  }
 ],
 "metadata": {
  "kernelspec": {
   "display_name": "eda",
   "language": "python",
   "name": "python3"
  },
  "language_info": {
   "codemirror_mode": {
    "name": "ipython",
    "version": 3
   },
   "file_extension": ".py",
   "mimetype": "text/x-python",
   "name": "python",
   "nbconvert_exporter": "python",
   "pygments_lexer": "ipython3",
   "version": "3.10.11"
  },
  "orig_nbformat": 4
 },
 "nbformat": 4,
 "nbformat_minor": 2
}
