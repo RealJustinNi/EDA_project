{
 "cells": [
  {
   "cell_type": "code",
   "execution_count": 1,
   "metadata": {},
   "outputs": [
    {
     "name": "stdout",
     "output_type": "stream",
     "text": [
      "50 50 5 1\n",
      "(50, 50)\n",
      "(50, 50)\n"
     ]
    }
   ],
   "source": [
    "from parase_input_package.generate_output import *\n",
    "from parase_input_package.parase_input import *\n",
    "rows,columns,bend_penalty,via_penalty,layer1_gird,layer2_grid = parse_gridfile('../benchmark/bench1.grid')\n",
    "netlist_file_path = '../benchmark/bench1.nl'\n"
   ]
  },
  {
   "cell_type": "code",
   "execution_count": 2,
   "metadata": {},
   "outputs": [],
   "source": [
    "nets,net_num = parse_netlist(netlist_file_path)"
   ]
  },
  {
   "cell_type": "code",
   "execution_count": 3,
   "metadata": {},
   "outputs": [
    {
     "name": "stdout",
     "output_type": "stream",
     "text": [
      "[{'net_id': 1, 'pin1': {'x': 3, 'y': 36, 'layer': 1}, 'pin2': {'x': 3, 'y': 29, 'layer': 1}}, {'net_id': 2, 'pin1': {'x': 4, 'y': 36, 'layer': 1}, 'pin2': {'x': 4, 'y': 29, 'layer': 1}}, {'net_id': 3, 'pin1': {'x': 5, 'y': 36, 'layer': 1}, 'pin2': {'x': 6, 'y': 29, 'layer': 1}}]\n"
     ]
    }
   ],
   "source": [
    "print(nets[0:3])\n"
   ]
  },
  {
   "cell_type": "code",
   "execution_count": 8,
   "metadata": {},
   "outputs": [],
   "source": [
    "def unit_cost_router(rows, columns, layer1_grid, nets):\n",
    "    routing_table = {}\n",
    "    for net in nets:\n",
    "        net_id = net['net_id']\n",
    "        pin1 = net['pin1']\n",
    "        pin2 = net['pin2']\n",
    "        layer1_grid[pin1['x']][pin1['y']] = -1\n",
    "        layer1_grid[pin2['x']][pin2['y']] = -1\n",
    "        ## 防止布线在后续的pin上，先将所有的pin标记为-1；\n",
    "        \n",
    "    for net in nets:\n",
    "        net_id = net['net_id']\n",
    "        pin1 = net['pin1']\n",
    "        pin2 = net['pin2']\n",
    "        layer1_grid[pin1['x']][pin1['y']] = 1\n",
    "        layer1_grid[pin2['x']][pin2['y']] = 1\n",
    "        path = expand_source_to_target(rows, columns, layer1_grid, pin1, pin2)\n",
    "        mark_path_on_grid(layer1_grid,path)\n",
    "        routing_table[net_id] = path\n",
    "    return routing_table\n",
    "\n",
    "from queue import Queue\n",
    "\n",
    "def expand_source_to_target(rows, columns, layer1_grid, source, target):\n",
    "    queue = Queue()\n",
    "    visited = set()\n",
    "    parents = {}\n",
    "\n",
    "    source_tuple = (source['x'], source['y'], source['layer'])\n",
    "    target_tuple = (target['x'], target['y'], target['layer'])\n",
    "    \n",
    "    queue.put(source_tuple)\n",
    "    visited.add(source_tuple)\n",
    "\n",
    "    while not queue.empty():\n",
    "        current_cell = queue.get()\n",
    "\n",
    "        if current_cell == target_tuple:\n",
    "            path = reconstruct_path(source_tuple, target_tuple, parents)\n",
    "            return path\n",
    "\n",
    "        neighbors = get_neighbors(rows, columns, current_cell)\n",
    "\n",
    "        for neighbor in neighbors:\n",
    "            neighbor_tuple = (neighbor['x'], neighbor['y'], neighbor['layer'])\n",
    "            if neighbor_tuple not in visited:\n",
    "                if layer1_grid[neighbor['x']][neighbor['y']] != -1:\n",
    "                    queue.put(neighbor_tuple)\n",
    "                    visited.add(neighbor_tuple)\n",
    "                    parents[neighbor_tuple] = current_cell\n",
    "\n",
    "    return []\n",
    "\n",
    "def get_neighbors(rows, columns, cell):\n",
    "    x, y, layer = cell\n",
    "    neighbors = []\n",
    "    if x > 0:\n",
    "        neighbors.append({'x': x - 1, 'y': y, 'layer': layer})\n",
    "    if x < columns - 1:\n",
    "        neighbors.append({'x': x + 1, 'y': y, 'layer': layer})\n",
    "    if y > 0:\n",
    "        neighbors.append({'x': x, 'y': y - 1, 'layer': layer})\n",
    "    if y < rows - 1:\n",
    "        neighbors.append({'x': x, 'y': y + 1, 'layer': layer})\n",
    "\n",
    "    return neighbors\n",
    "\n",
    "\n",
    "def reconstruct_path(source, target, parents):\n",
    "    path = []\n",
    "    current = target\n",
    "    while current != source:\n",
    "        path.append(current)\n",
    "        current = parents[current]\n",
    "    path.append(source)\n",
    "    path.reverse()\n",
    "    return path\n",
    "\n",
    "def mark_path_on_grid(layer1_grid, path):\n",
    "    for cell in path:\n",
    "        x, y, _ = cell\n",
    "        layer1_grid[x][y] = -1"
   ]
  },
  {
   "cell_type": "code",
   "execution_count": 9,
   "metadata": {},
   "outputs": [],
   "source": [
    "routing_table = unit_cost_router(rows, columns, layer1_gird, nets)"
   ]
  },
  {
   "cell_type": "code",
   "execution_count": 10,
   "metadata": {},
   "outputs": [
    {
     "name": "stdout",
     "output_type": "stream",
     "text": [
      "{1: [(3, 36, 1), (2, 36, 1), (2, 35, 1), (2, 34, 1), (2, 33, 1), (2, 32, 1), (2, 31, 1), (2, 30, 1), (2, 29, 1), (3, 29, 1)], 2: [(4, 36, 1), (4, 37, 1), (3, 37, 1), (2, 37, 1), (1, 37, 1), (1, 36, 1), (1, 35, 1), (1, 34, 1), (1, 33, 1), (1, 32, 1), (1, 31, 1), (1, 30, 1), (1, 29, 1), (1, 28, 1), (2, 28, 1), (3, 28, 1), (4, 28, 1), (4, 29, 1)], 3: [(5, 36, 1), (5, 35, 1), (5, 34, 1), (5, 33, 1), (5, 32, 1), (5, 31, 1), (5, 30, 1), (5, 29, 1), (6, 29, 1)], 4: [(7, 36, 1), (7, 35, 1), (8, 35, 1), (8, 34, 1), (8, 33, 1), (8, 32, 1), (8, 31, 1), (8, 30, 1), (8, 29, 1), (9, 29, 1)], 5: [(10, 36, 1), (10, 35, 1), (11, 35, 1), (12, 35, 1), (12, 34, 1), (12, 33, 1), (12, 32, 1), (12, 31, 1), (12, 30, 1), (12, 29, 1), (13, 29, 1)], 6: [(49, 36, 1), (49, 37, 1), (48, 37, 1), (47, 37, 1), (46, 37, 1), (45, 37, 1), (44, 37, 1), (43, 37, 1), (42, 37, 1), (41, 37, 1), (40, 37, 1), (39, 37, 1), (38, 37, 1), (37, 37, 1), (36, 37, 1), (36, 36, 1)], 7: [], 8: [(49, 34, 1), (49, 33, 1), (48, 33, 1), (47, 33, 1), (46, 33, 1), (45, 33, 1), (44, 33, 1), (43, 33, 1), (42, 33, 1), (41, 33, 1), (40, 33, 1), (39, 33, 1), (38, 33, 1), (37, 33, 1), (36, 33, 1)], 9: [(49, 32, 1), (49, 31, 1), (48, 31, 1), (47, 31, 1), (46, 31, 1), (45, 31, 1), (44, 31, 1), (43, 31, 1), (42, 31, 1), (41, 31, 1), (40, 31, 1), (39, 31, 1), (38, 31, 1), (37, 31, 1), (37, 30, 1), (36, 30, 1)], 10: [(49, 29, 1), (49, 28, 1), (48, 28, 1), (47, 28, 1), (46, 28, 1), (45, 28, 1), (44, 28, 1), (43, 28, 1), (42, 28, 1), (41, 28, 1), (40, 28, 1), (39, 28, 1), (38, 28, 1), (37, 28, 1), (37, 27, 1), (37, 26, 1), (36, 26, 1)], 11: [(12, 15, 1), (12, 16, 1), (12, 17, 1), (12, 18, 1), (12, 19, 1), (12, 20, 1), (12, 21, 1), (12, 22, 1), (12, 23, 1), (12, 24, 1), (13, 24, 1), (14, 24, 1), (15, 24, 1), (16, 24, 1), (17, 24, 1), (18, 24, 1), (19, 24, 1), (20, 24, 1), (20, 23, 1), (20, 22, 1), (20, 21, 1), (20, 20, 1), (20, 19, 1), (20, 18, 1), (20, 17, 1), (20, 16, 1), (20, 15, 1), (20, 14, 1), (20, 13, 1), (20, 12, 1), (19, 12, 1), (18, 12, 1), (17, 12, 1), (16, 12, 1), (15, 12, 1)], 12: [(11, 16, 1), (11, 17, 1), (11, 18, 1), (11, 19, 1), (11, 20, 1), (11, 21, 1), (11, 22, 1), (11, 23, 1), (11, 24, 1), (11, 25, 1), (12, 25, 1), (13, 25, 1), (14, 25, 1), (15, 25, 1), (16, 25, 1), (17, 25, 1), (18, 25, 1), (19, 25, 1), (20, 25, 1), (21, 25, 1), (21, 24, 1), (21, 23, 1), (21, 22, 1), (21, 21, 1), (21, 20, 1), (21, 19, 1), (21, 18, 1), (21, 17, 1), (21, 16, 1), (21, 15, 1), (21, 14, 1), (21, 13, 1), (21, 12, 1), (21, 11, 1), (20, 11, 1), (19, 11, 1), (18, 11, 1), (17, 11, 1), (16, 11, 1)], 13: [(10, 17, 1), (10, 18, 1), (10, 19, 1), (9, 19, 1), (9, 20, 1), (8, 20, 1), (7, 20, 1), (7, 19, 1), (7, 18, 1), (7, 17, 1), (7, 16, 1), (7, 15, 1), (7, 14, 1), (7, 13, 1), (7, 12, 1), (7, 11, 1), (7, 10, 1), (7, 9, 1), (7, 8, 1), (7, 7, 1), (8, 7, 1), (9, 7, 1), (10, 7, 1), (11, 7, 1), (12, 7, 1), (13, 7, 1), (14, 7, 1), (15, 7, 1), (16, 7, 1), (17, 7, 1), (18, 7, 1), (19, 7, 1), (20, 7, 1), (20, 8, 1), (20, 9, 1), (19, 9, 1), (19, 10, 1), (18, 10, 1), (17, 10, 1)], 14: [], 15: [], 16: [(38, 4, 1), (38, 5, 1), (39, 5, 1), (40, 5, 1), (40, 6, 1), (40, 7, 1), (41, 7, 1)], 17: [(37, 3, 1), (37, 4, 1), (37, 5, 1), (37, 6, 1), (38, 6, 1), (39, 6, 1), (39, 7, 1), (39, 8, 1), (40, 8, 1), (41, 8, 1), (42, 8, 1)], 18: [(36, 2, 1), (36, 3, 1), (36, 4, 1), (36, 5, 1), (36, 6, 1), (36, 7, 1), (37, 7, 1), (38, 7, 1), (38, 8, 1), (38, 9, 1), (39, 9, 1), (40, 9, 1), (41, 9, 1), (42, 9, 1), (43, 9, 1)], 19: [(35, 1, 1), (35, 2, 1), (35, 3, 1), (35, 4, 1), (35, 5, 1), (35, 6, 1), (35, 7, 1), (35, 8, 1), (36, 8, 1), (37, 8, 1), (37, 9, 1), (37, 10, 1), (38, 10, 1), (39, 10, 1), (40, 10, 1), (41, 10, 1), (42, 10, 1), (43, 10, 1), (44, 10, 1)], 20: [(34, 0, 1), (33, 0, 1), (32, 0, 1), (31, 0, 1), (30, 0, 1), (29, 0, 1), (28, 0, 1), (28, 1, 1), (28, 2, 1), (28, 3, 1), (28, 4, 1), (28, 5, 1), (28, 6, 1), (28, 7, 1), (28, 8, 1), (28, 9, 1), (29, 9, 1), (30, 9, 1), (31, 9, 1), (32, 9, 1), (33, 9, 1), (34, 9, 1), (35, 9, 1), (36, 9, 1), (36, 10, 1), (36, 11, 1), (37, 11, 1), (38, 11, 1), (39, 11, 1), (40, 11, 1), (41, 11, 1), (42, 11, 1), (43, 11, 1), (44, 11, 1), (45, 11, 1)]}\n"
     ]
    }
   ],
   "source": [
    "print(routing_table)\n",
    "filepath_out='../output/out_corerouter_v1'\n",
    "generate_output_file(filepath_out, net_num+1, routing_table)"
   ]
  }
 ],
 "metadata": {
  "kernelspec": {
   "display_name": "eda",
   "language": "python",
   "name": "python3"
  },
  "language_info": {
   "codemirror_mode": {
    "name": "ipython",
    "version": 3
   },
   "file_extension": ".py",
   "mimetype": "text/x-python",
   "name": "python",
   "nbconvert_exporter": "python",
   "pygments_lexer": "ipython3",
   "version": "3.10.11"
  },
  "orig_nbformat": 4
 },
 "nbformat": 4,
 "nbformat_minor": 2
}
