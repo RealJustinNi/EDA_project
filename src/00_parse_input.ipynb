{
 "cells": [
  {
   "attachments": {},
   "cell_type": "markdown",
   "metadata": {},
   "source": [
    "# 文件解析和文件生成"
   ]
  },
  {
   "cell_type": "code",
   "execution_count": 3,
   "metadata": {},
   "outputs": [],
   "source": [
    "import numpy as np\n",
    "from io import StringIO\n"
   ]
  },
  {
   "attachments": {},
   "cell_type": "markdown",
   "metadata": {},
   "source": [
    "## 网格文件"
   ]
  },
  {
   "cell_type": "code",
   "execution_count": 8,
   "metadata": {},
   "outputs": [],
   "source": [
    "def parse_gridfile(filepath):\n",
    "    f=open(filepath)\n",
    "    data = []\n",
    "    for line in f:\n",
    "        data.append(line.strip())\n",
    "    f.close()\n",
    "    columns = int(data[0].split(\" \",4)[0])\n",
    "    rows = int(data[0].split(\" \",4)[1])\n",
    "    bend_penalty = int(data[0].split(\" \",4)[2])\n",
    "    via_penalty = int(data[0].split(\" \",4)[3])\n",
    "    print(\"bend_penalty:\",bend_penalty,\"\\n\",\"via_penalty:\",via_penalty)\n",
    "    string = str(data[1:])\n",
    "    for item in [\"'\",\"[\",\"]\",\",\"]:\n",
    "        string=string.replace(item,\"\")\n",
    "    array = np.genfromtxt(StringIO(string))\n",
    "    array = array.reshape((2*rows,columns))\n",
    "    layer1_gird,layer2_grid = np.vsplit(array, 2)[0],np.vsplit(array, 2)[1]\n",
    "    print(\"size of layer1:\",layer1_gird.shape)\n",
    "    print(\"size of layer2:\",layer2_grid.shape)\n",
    "    return rows,columns,bend_penalty,via_penalty,layer1_gird,layer2_grid\n"
   ]
  },
  {
   "cell_type": "code",
   "execution_count": 9,
   "metadata": {},
   "outputs": [
    {
     "name": "stdout",
     "output_type": "stream",
     "text": [
      "bend_penalty: 5 \n",
      " via_penalty: 1\n",
      "size of layer1: (50, 50)\n",
      "size of layer2: (50, 50)\n"
     ]
    }
   ],
   "source": [
    "rows,columns,bend_penalty,via_penalty,layer1_gird,layer2_grid = parse_gridfile('../benchmark/bench1.grid')\n"
   ]
  },
  {
   "attachments": {},
   "cell_type": "markdown",
   "metadata": {},
   "source": [
    "## 网表文件"
   ]
  },
  {
   "cell_type": "code",
   "execution_count": 10,
   "metadata": {},
   "outputs": [],
   "source": [
    "def parse_netlist(filepath):\n",
    "    with open(filepath, 'r') as file:\n",
    "        lines = file.readlines()\n",
    "\n",
    "    net_count = int(lines[0])\n",
    "    nets = []\n",
    "\n",
    "    for i in range(1, net_count + 1):\n",
    "        net_data = lines[i].split()\n",
    "        net_id = int(net_data[0])\n",
    "        pin1_layer = int(net_data[1])\n",
    "        pin1_x = int(net_data[2])\n",
    "        pin1_y = int(net_data[3])\n",
    "        pin2_layer = int(net_data[4])\n",
    "        pin2_x = int(net_data[5])\n",
    "        pin2_y = int(net_data[6])\n",
    "        net = {\n",
    "            'net_id': net_id,\n",
    "            'pin1': {'x': pin1_x, 'y': pin1_y, 'layer': pin1_layer},\n",
    "            'pin2': {'x': pin2_x, 'y': pin2_y, 'layer': pin2_layer}\n",
    "        }\n",
    "        nets.append(net)\n",
    "    return nets\n",
    "\n"
   ]
  },
  {
   "cell_type": "code",
   "execution_count": 11,
   "metadata": {},
   "outputs": [
    {
     "name": "stdout",
     "output_type": "stream",
     "text": [
      "[{'net_id': 1, 'pin1': {'x': 3, 'y': 36, 'layer': 1}, 'pin2': {'x': 3, 'y': 29, 'layer': 1}}, {'net_id': 2, 'pin1': {'x': 4, 'y': 36, 'layer': 1}, 'pin2': {'x': 4, 'y': 29, 'layer': 1}}, {'net_id': 3, 'pin1': {'x': 5, 'y': 36, 'layer': 1}, 'pin2': {'x': 6, 'y': 29, 'layer': 1}}, {'net_id': 4, 'pin1': {'x': 7, 'y': 36, 'layer': 1}, 'pin2': {'x': 9, 'y': 29, 'layer': 1}}, {'net_id': 5, 'pin1': {'x': 10, 'y': 36, 'layer': 1}, 'pin2': {'x': 13, 'y': 29, 'layer': 1}}, {'net_id': 6, 'pin1': {'x': 49, 'y': 36, 'layer': 1}, 'pin2': {'x': 36, 'y': 36, 'layer': 1}}, {'net_id': 7, 'pin1': {'x': 49, 'y': 35, 'layer': 1}, 'pin2': {'x': 36, 'y': 35, 'layer': 1}}, {'net_id': 8, 'pin1': {'x': 49, 'y': 34, 'layer': 1}, 'pin2': {'x': 36, 'y': 33, 'layer': 1}}, {'net_id': 9, 'pin1': {'x': 49, 'y': 32, 'layer': 1}, 'pin2': {'x': 36, 'y': 30, 'layer': 1}}, {'net_id': 10, 'pin1': {'x': 49, 'y': 29, 'layer': 1}, 'pin2': {'x': 36, 'y': 26, 'layer': 1}}, {'net_id': 11, 'pin1': {'x': 12, 'y': 15, 'layer': 1}, 'pin2': {'x': 15, 'y': 12, 'layer': 1}}, {'net_id': 12, 'pin1': {'x': 11, 'y': 16, 'layer': 1}, 'pin2': {'x': 16, 'y': 11, 'layer': 1}}, {'net_id': 13, 'pin1': {'x': 10, 'y': 17, 'layer': 1}, 'pin2': {'x': 17, 'y': 10, 'layer': 1}}, {'net_id': 14, 'pin1': {'x': 9, 'y': 18, 'layer': 1}, 'pin2': {'x': 18, 'y': 9, 'layer': 1}}, {'net_id': 15, 'pin1': {'x': 8, 'y': 19, 'layer': 1}, 'pin2': {'x': 19, 'y': 8, 'layer': 1}}, {'net_id': 16, 'pin1': {'x': 38, 'y': 4, 'layer': 1}, 'pin2': {'x': 41, 'y': 7, 'layer': 1}}, {'net_id': 17, 'pin1': {'x': 37, 'y': 3, 'layer': 1}, 'pin2': {'x': 42, 'y': 8, 'layer': 1}}, {'net_id': 18, 'pin1': {'x': 36, 'y': 2, 'layer': 1}, 'pin2': {'x': 43, 'y': 9, 'layer': 1}}, {'net_id': 19, 'pin1': {'x': 35, 'y': 1, 'layer': 1}, 'pin2': {'x': 44, 'y': 10, 'layer': 1}}, {'net_id': 20, 'pin1': {'x': 34, 'y': 0, 'layer': 1}, 'pin2': {'x': 45, 'y': 11, 'layer': 1}}]\n"
     ]
    }
   ],
   "source": [
    "netlist_file_path = '../benchmark/bench1.nl'\n",
    "nets = parse_netlist(netlist_file_path)\n",
    "print(nets)"
   ]
  },
  {
   "attachments": {},
   "cell_type": "markdown",
   "metadata": {},
   "source": [
    "## 输出文件生成"
   ]
  },
  {
   "cell_type": "code",
   "execution_count": 2,
   "metadata": {},
   "outputs": [],
   "source": [
    "def generate_output_file(filepath, net_number, routing_paths):\n",
    "    with open(filepath, 'w') as file:\n",
    "        file.write(str(net_number) + '\\n')\n",
    "\n",
    "        for net_id, routing_path in routing_paths.items():\n",
    "            file.write(str(net_id) + '\\n')\n",
    "            for layer, x, y in routing_path:\n",
    "                file.write(str(layer) + ' ' + str(x) + ' ' + str(y) + '\\n')\n",
    "            file.write('0\\n')\n",
    "\n",
    "# Example usage:\n",
    "routing_paths = {\n",
    "    1: [(1, 1, 3), (1, 1, 4), (1, 1, 5), (1, 1, 6)],\n",
    "    2: [(1, 1, 4), (1, 2, 4), (3, 2, 4), (2, 2, 4), (1, 3, 4)],\n",
    "    3: []  # Unrouted net\n",
    "}\n",
    "\n",
    "output_file_path = '../output/output_test.txt'\n",
    "generate_output_file(output_file_path, 3, routing_paths)"
   ]
  },
  {
   "attachments": {},
   "cell_type": "markdown",
   "metadata": {},
   "source": [
    "## 评估函数"
   ]
  }
 ],
 "metadata": {
  "kernelspec": {
   "display_name": "eda",
   "language": "python",
   "name": "python3"
  },
  "language_info": {
   "codemirror_mode": {
    "name": "ipython",
    "version": 3
   },
   "file_extension": ".py",
   "mimetype": "text/x-python",
   "name": "python",
   "nbconvert_exporter": "python",
   "pygments_lexer": "ipython3",
   "version": "3.10.11"
  },
  "orig_nbformat": 4
 },
 "nbformat": 4,
 "nbformat_minor": 2
}
