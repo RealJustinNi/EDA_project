{
 "cells": [
  {
   "attachments": {},
   "cell_type": "markdown",
   "metadata": {},
   "source": [
    "# V4: True two layers(two pins on the different layer)"
   ]
  },
  {
   "cell_type": "code",
   "execution_count": 1,
   "metadata": {},
   "outputs": [
    {
     "name": "stdout",
     "output_type": "stream",
     "text": [
      "bend_penalty: 50 \n",
      " via_penalty: 50\n",
      "size of layer1: (50, 50)\n",
      "size of layer2: (50, 50)\n"
     ]
    }
   ],
   "source": [
    "from parase_input_package.generate_output import *\n",
    "from parase_input_package.parase_input import *\n",
    "from parase_input_package.plot_output import *\n",
    "filepath_out='../output/bench4.router'\n",
    "netlist_file_path = '../benchmark/bench4.nl'\n",
    "gridfile_path  = '../benchmark/bench4.grid'\n",
    "nets,net_num = parse_netlist(netlist_file_path)\n",
    "rows,columns,bend_penalty,via_penalty,layer1_grid_original,layer2_grid_original = parse_gridfile(gridfile_path)"
   ]
  },
  {
   "cell_type": "code",
   "execution_count": 2,
   "metadata": {},
   "outputs": [],
   "source": [
    "# plot problem 根据grid文件可视化障碍物和每个格子的cost，同时标出source和target，可以显示两层\n",
    "plot_problem(\"../output/bench4_problem.jpg\",columns,rows,layer1_grid_original,layer2_grid_original,nets)"
   ]
  },
  {
   "cell_type": "code",
   "execution_count": 3,
   "metadata": {},
   "outputs": [],
   "source": [
    "def reconstruct_path(source, target, parents):\n",
    "    path = []\n",
    "    current = target\n",
    "    while current != source:\n",
    "        path.append(current)\n",
    "        current = parents[current]\n",
    "    path.append(source)\n",
    "    path.reverse()\n",
    "    return path\n",
    "\n",
    "def mark_path_on_grid(layer1_grid, path):\n",
    "    #print(path)\n",
    "    if path:               # 判断是否为空 如果path为None 后面不可迭代会报错 5.22\n",
    "        for cell in path:\n",
    "            x, y, _ = cell\n",
    "            layer1_grid[x][y] = -1"
   ]
  },
  {
   "cell_type": "code",
   "execution_count": 4,
   "metadata": {},
   "outputs": [],
   "source": [
    "def get_cell_cost(layer_grid, cell,path_tmp,bend_penalty,via_penalty):  \n",
    "    x, y, layer = cell\n",
    "    cell_cost = 1  # 默认的单元代价\n",
    "    if layer_grid[x][y] == -1:\n",
    "        cell_cost = float('inf')  # -1表示无法通过的细胞\n",
    "    elif layer_grid[x][y] != 1:\n",
    "        cell_cost = layer_grid[x][y]  # 非单元代价\n",
    "    if len(path_tmp) >= 2:\n",
    "        prev_cell = path_tmp[-2]\n",
    "        prev_x, prev_y, prev_layer = prev_cell\n",
    "        if layer != prev_layer:\n",
    "            cell_cost += via_penalty\n",
    "        elif (prev_x != x or prev_y != y):  #v4，层变化的，加穿孔cost(woods5/22) 已加(justin5/22)\n",
    "            cell_cost += bend_penalty\n",
    "    return cell_cost\n",
    "\n",
    "# modified by junjun\n",
    "def expand_source_to_target(rows, columns, layer1_grid,layer2_grid, source, target,bend_penalty,via_penalty):#5.22 把layer2——grid输入，计算cost加入条件判断(woods5/22)\n",
    "    wavefront = {}\n",
    "    visited = set()\n",
    "    parents = {}\n",
    "    costs = {}  # Store the cumulative costs for each cell\n",
    "    \n",
    "    source_tuple = (source['x'], source['y'], source['layer'])\n",
    "    target_tuple = (target['x'], target['y'], target['layer'])\n",
    "    \n",
    "    wavefront[source_tuple] = 0\n",
    "    costs[source_tuple] = 0  # Initial cost for the source cell is 0\n",
    "\n",
    "    while wavefront:\n",
    "        # get lowest cost cell on a wavefront structure\n",
    "        current_cell = sorted(wavefront.items(),key=lambda s:int(s[1]))[0][0]\n",
    "\n",
    "        if current_cell == target_tuple:\n",
    "            path = reconstruct_path(source_tuple, target_tuple, parents)\n",
    "            return path,costs\n",
    "\n",
    "        neighbors = get_neighbors(rows, columns, current_cell)\n",
    "\n",
    "        for neighbor in neighbors:\n",
    "            neighbor_tuple = (neighbor['x'], neighbor['y'], neighbor['layer'])\n",
    "\n",
    "            if neighbor_tuple not in visited:\n",
    "                path_tmp= reconstruct_path(source_tuple, current_cell, parents)\n",
    "                # Calculate the cost to reach the neighbor cell\n",
    "                if(neighbor_tuple[2]== 1):\n",
    "                  cost = costs[current_cell] + get_cell_cost(layer1_grid, neighbor_tuple,path_tmp,bend_penalty,via_penalty)\n",
    "                if(neighbor_tuple[2]== 2):\n",
    "                  cost = costs[current_cell] + get_cell_cost(layer2_grid, neighbor_tuple,path_tmp,bend_penalty,via_penalty)\n",
    "                # ignore blocks\n",
    "                if cost!= np.inf:\n",
    "                    if neighbor_tuple not in wavefront.keys() or costs[neighbor_tuple] > cost:\n",
    "                        costs[neighbor_tuple] = cost\n",
    "                        parents[neighbor_tuple] = current_cell\n",
    "\n",
    "                    if neighbor_tuple not in wavefront.keys():\n",
    "                        # add cell N to waveform, indexed by pathcost\n",
    "                        wavefront[neighbor_tuple]=cost         \n",
    "\n",
    "        visited.add(current_cell)    \n",
    "        del wavefront[current_cell]                  \n",
    "    return None,None\n",
    "\n",
    "def get_neighbors(rows, columns, cell):##v4加两个方向如果为layer==1 ，up，==2，down(woods5/22)  已加(justin5/22)     \n",
    "    x, y, layer = cell\n",
    "    neighbors = []\n",
    "    if y < rows - 1:\n",
    "        neighbors.append({'x': x, 'y': y + 1, 'layer': layer})\n",
    "    if x < columns - 1:\n",
    "        neighbors.append({'x': x + 1, 'y': y, 'layer': layer})\n",
    "    if y > 0:\n",
    "        neighbors.append({'x': x, 'y': y - 1, 'layer': layer})\n",
    "    if x > 0:\n",
    "        neighbors.append({'x': x - 1, 'y': y, 'layer': layer})     \n",
    "    neighbors.append({'x': x, 'y': y, 'layer': 3-layer})                                          \n",
    "    return neighbors"
   ]
  },
  {
   "cell_type": "code",
   "execution_count": 5,
   "metadata": {},
   "outputs": [],
   "source": [
    "def true_two_layer_router(rows, columns, layer1_grid,layer2_grid, nets,bend_penalty,via_penalty):#修改了函数名，把layer2——grid输入(woods5/22)\n",
    "    routing_table = {}\n",
    "    for net in nets:\n",
    "        net_id = net['net_id']\n",
    "        pin1 = net['pin1']\n",
    "        pin2 = net['pin2']\n",
    "        if pin1['layer'] == 1:\n",
    "            layer1_grid[pin1['x']][pin1['y']] = -1\n",
    "        if pin1['layer'] == 2:\n",
    "            layer2_grid[pin1['x']][pin1['y']] = -1\n",
    "        if pin2['layer'] == 1:\n",
    "            layer1_grid[pin2['x']][pin2['y']] = -1\n",
    "        if pin2['layer'] == 2:\n",
    "            layer2_grid[pin2['x']][pin2['y']] = -1\n",
    "            #这里区分不同层的pin，if语句有点多(woods5/22)\n",
    "        ## 防止布线在后续的pin上，先将所有的pin标记为-1；\n",
    "    \n",
    "    for net in nets:#在V4版本中不能分开处理\n",
    "        net_id = net['net_id']\n",
    "        pin1 = net['pin1']\n",
    "        pin2 = net['pin2']\n",
    "        if pin1['layer'] == 1:\n",
    "            layer1_grid[pin1['x']][pin1['y']] = 1\n",
    "        if pin1['layer'] == 2:\n",
    "            layer2_grid[pin1['x']][pin1['y']] = 1\n",
    "        if pin2['layer'] == 1:\n",
    "            layer1_grid[pin2['x']][pin2['y']] = 1\n",
    "        if pin2['layer'] == 2:\n",
    "            layer2_grid[pin2['x']][pin2['y']] = 1\n",
    "        print('Routing net:',net_id)\n",
    "        path,costs = expand_source_to_target(rows, columns, layer1_grid,layer2_grid, pin1, pin2,bend_penalty,via_penalty) \n",
    "        costs = {}\n",
    "        if path is not None:\n",
    "            mark_path_on_grid(layer1_grid,path)\n",
    "            routing_table[net_id] = path\n",
    "        \n",
    "    return routing_table,costs"
   ]
  },
  {
   "cell_type": "code",
   "execution_count": 6,
   "metadata": {},
   "outputs": [
    {
     "name": "stdout",
     "output_type": "stream",
     "text": [
      "Routing net: 1\n",
      "Routing net: 2\n",
      "Routing net: 3\n",
      "Routing net: 4\n",
      "Routing net: 5\n",
      "Routing net: 6\n",
      "Routing net: 7\n",
      "Routing net: 8\n",
      "Routing net: 9\n",
      "Routing net: 10\n",
      "Routing net: 11\n",
      "Routing net: 12\n",
      "Routing net: 13\n",
      "Routing net: 14\n",
      "Routing net: 15\n"
     ]
    }
   ],
   "source": [
    "layer1_grid = layer1_grid_original.copy()\n",
    "layer2_grid = layer2_grid_original.copy()\n",
    "routing_table,costs=true_two_layer_router(rows, columns, layer1_grid.T,layer2_grid.T, nets,bend_penalty,via_penalty)\n",
    "plot_path('../output/bench4_v3.jpg',columns=columns,rows=rows,grid1=layer1_grid_original,grid2=layer2_grid_original,path_dict=routing_table) \n",
    "generate_output_file(filepath_out,net_num,routing_table)"
   ]
  }
 ],
 "metadata": {
  "kernelspec": {
   "display_name": "eda",
   "language": "python",
   "name": "python3"
  },
  "language_info": {
   "codemirror_mode": {
    "name": "ipython",
    "version": 3
   },
   "file_extension": ".py",
   "mimetype": "text/x-python",
   "name": "python",
   "nbconvert_exporter": "python",
   "pygments_lexer": "ipython3",
   "version": "3.10.9"
  },
  "orig_nbformat": 4
 },
 "nbformat": 4,
 "nbformat_minor": 2
}
